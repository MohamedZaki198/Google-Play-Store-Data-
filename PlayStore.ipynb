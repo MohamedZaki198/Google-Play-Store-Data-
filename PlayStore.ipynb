{
 "cells": [
  {
   "cell_type": "markdown",
   "id": "135cc1fa-0290-4c94-a5b5-a25699aa743e",
   "metadata": {},
   "source": [
    "**Let's Start**"
   ]
  },
  {
   "cell_type": "code",
   "execution_count": 1,
   "id": "cd448be4-520a-44cd-8bdb-a628d5b8f3dc",
   "metadata": {},
   "outputs": [
    {
     "name": "stdout",
     "output_type": "stream",
     "text": [
      "Requirement already satisfied: missingno in f:\\anaconda\\lib\\site-packages (0.5.2)\n",
      "Requirement already satisfied: numpy in f:\\anaconda\\lib\\site-packages (from missingno) (2.1.3)\n",
      "Requirement already satisfied: matplotlib in f:\\anaconda\\lib\\site-packages (from missingno) (3.10.0)\n",
      "Requirement already satisfied: scipy in f:\\anaconda\\lib\\site-packages (from missingno) (1.15.3)\n",
      "Requirement already satisfied: seaborn in f:\\anaconda\\lib\\site-packages (from missingno) (0.13.2)\n",
      "Requirement already satisfied: contourpy>=1.0.1 in f:\\anaconda\\lib\\site-packages (from matplotlib->missingno) (1.3.1)\n",
      "Requirement already satisfied: cycler>=0.10 in f:\\anaconda\\lib\\site-packages (from matplotlib->missingno) (0.11.0)\n",
      "Requirement already satisfied: fonttools>=4.22.0 in f:\\anaconda\\lib\\site-packages (from matplotlib->missingno) (4.55.3)\n",
      "Requirement already satisfied: kiwisolver>=1.3.1 in f:\\anaconda\\lib\\site-packages (from matplotlib->missingno) (1.4.8)\n",
      "Requirement already satisfied: packaging>=20.0 in f:\\anaconda\\lib\\site-packages (from matplotlib->missingno) (24.2)\n",
      "Requirement already satisfied: pillow>=8 in f:\\anaconda\\lib\\site-packages (from matplotlib->missingno) (11.1.0)\n",
      "Requirement already satisfied: pyparsing>=2.3.1 in f:\\anaconda\\lib\\site-packages (from matplotlib->missingno) (3.2.0)\n",
      "Requirement already satisfied: python-dateutil>=2.7 in f:\\anaconda\\lib\\site-packages (from matplotlib->missingno) (2.9.0.post0)\n",
      "Requirement already satisfied: six>=1.5 in f:\\anaconda\\lib\\site-packages (from python-dateutil>=2.7->matplotlib->missingno) (1.17.0)\n",
      "Requirement already satisfied: pandas>=1.2 in f:\\anaconda\\lib\\site-packages (from seaborn->missingno) (2.2.3)\n",
      "Requirement already satisfied: pytz>=2020.1 in f:\\anaconda\\lib\\site-packages (from pandas>=1.2->seaborn->missingno) (2024.1)\n",
      "Requirement already satisfied: tzdata>=2022.7 in f:\\anaconda\\lib\\site-packages (from pandas>=1.2->seaborn->missingno) (2025.2)\n",
      "Note: you may need to restart the kernel to use updated packages.\n"
     ]
    }
   ],
   "source": [
    "pip install missingno"
   ]
  },
  {
   "cell_type": "code",
   "execution_count": 2,
   "id": "7d7cbc8f-45fc-469f-93ac-915c1787dbf4",
   "metadata": {},
   "outputs": [],
   "source": [
    "#import required libraries\n",
    "import pandas as pd\n",
    "import matplotlib.pyplot as plt\n",
    "import numpy as np\n",
    "import seaborn as sns\n",
    "import missingno as msno\n",
    "import datetime as dt"
   ]
  },
  {
   "cell_type": "code",
   "execution_count": 3,
   "id": "23d558cb-9307-4318-a8ba-810d21253f32",
   "metadata": {},
   "outputs": [],
   "source": [
    "# Read in the dataset\n",
    "playstore = pd.read_csv('F:/googleplaystore.csv')"
   ]
  },
  {
   "cell_type": "code",
   "execution_count": 4,
   "id": "3704ad6b-55a6-4273-b7cb-e9cfaf2021fd",
   "metadata": {},
   "outputs": [
    {
     "data": {
      "text/html": [
       "<div>\n",
       "<style scoped>\n",
       "    .dataframe tbody tr th:only-of-type {\n",
       "        vertical-align: middle;\n",
       "    }\n",
       "\n",
       "    .dataframe tbody tr th {\n",
       "        vertical-align: top;\n",
       "    }\n",
       "\n",
       "    .dataframe thead th {\n",
       "        text-align: right;\n",
       "    }\n",
       "</style>\n",
       "<table border=\"1\" class=\"dataframe\">\n",
       "  <thead>\n",
       "    <tr style=\"text-align: right;\">\n",
       "      <th></th>\n",
       "      <th>App</th>\n",
       "      <th>Category</th>\n",
       "      <th>Rating</th>\n",
       "      <th>Reviews</th>\n",
       "      <th>Size</th>\n",
       "      <th>Installs</th>\n",
       "      <th>Type</th>\n",
       "      <th>Price</th>\n",
       "      <th>Content Rating</th>\n",
       "      <th>Genres</th>\n",
       "      <th>Last Updated</th>\n",
       "      <th>Current Ver</th>\n",
       "      <th>Android Ver</th>\n",
       "    </tr>\n",
       "  </thead>\n",
       "  <tbody>\n",
       "    <tr>\n",
       "      <th>0</th>\n",
       "      <td>Photo Editor &amp; Candy Camera &amp; Grid &amp; ScrapBook</td>\n",
       "      <td>ART_AND_DESIGN</td>\n",
       "      <td>4.1</td>\n",
       "      <td>159</td>\n",
       "      <td>19M</td>\n",
       "      <td>10,000+</td>\n",
       "      <td>Free</td>\n",
       "      <td>0</td>\n",
       "      <td>Everyone</td>\n",
       "      <td>Art &amp; Design</td>\n",
       "      <td>January 7, 2018</td>\n",
       "      <td>1.0.0</td>\n",
       "      <td>4.0.3 and up</td>\n",
       "    </tr>\n",
       "    <tr>\n",
       "      <th>1</th>\n",
       "      <td>Coloring book moana</td>\n",
       "      <td>ART_AND_DESIGN</td>\n",
       "      <td>3.9</td>\n",
       "      <td>967</td>\n",
       "      <td>14M</td>\n",
       "      <td>500,000+</td>\n",
       "      <td>Free</td>\n",
       "      <td>0</td>\n",
       "      <td>Everyone</td>\n",
       "      <td>Art &amp; Design;Pretend Play</td>\n",
       "      <td>January 15, 2018</td>\n",
       "      <td>2.0.0</td>\n",
       "      <td>4.0.3 and up</td>\n",
       "    </tr>\n",
       "    <tr>\n",
       "      <th>2</th>\n",
       "      <td>U Launcher Lite – FREE Live Cool Themes, Hide ...</td>\n",
       "      <td>ART_AND_DESIGN</td>\n",
       "      <td>4.7</td>\n",
       "      <td>87510</td>\n",
       "      <td>8.7M</td>\n",
       "      <td>5,000,000+</td>\n",
       "      <td>Free</td>\n",
       "      <td>0</td>\n",
       "      <td>Everyone</td>\n",
       "      <td>Art &amp; Design</td>\n",
       "      <td>August 1, 2018</td>\n",
       "      <td>1.2.4</td>\n",
       "      <td>4.0.3 and up</td>\n",
       "    </tr>\n",
       "    <tr>\n",
       "      <th>3</th>\n",
       "      <td>Sketch - Draw &amp; Paint</td>\n",
       "      <td>ART_AND_DESIGN</td>\n",
       "      <td>4.5</td>\n",
       "      <td>215644</td>\n",
       "      <td>25M</td>\n",
       "      <td>50,000,000+</td>\n",
       "      <td>Free</td>\n",
       "      <td>0</td>\n",
       "      <td>Teen</td>\n",
       "      <td>Art &amp; Design</td>\n",
       "      <td>June 8, 2018</td>\n",
       "      <td>Varies with device</td>\n",
       "      <td>4.2 and up</td>\n",
       "    </tr>\n",
       "    <tr>\n",
       "      <th>4</th>\n",
       "      <td>Pixel Draw - Number Art Coloring Book</td>\n",
       "      <td>ART_AND_DESIGN</td>\n",
       "      <td>4.3</td>\n",
       "      <td>967</td>\n",
       "      <td>2.8M</td>\n",
       "      <td>100,000+</td>\n",
       "      <td>Free</td>\n",
       "      <td>0</td>\n",
       "      <td>Everyone</td>\n",
       "      <td>Art &amp; Design;Creativity</td>\n",
       "      <td>June 20, 2018</td>\n",
       "      <td>1.1</td>\n",
       "      <td>4.4 and up</td>\n",
       "    </tr>\n",
       "  </tbody>\n",
       "</table>\n",
       "</div>"
      ],
      "text/plain": [
       "                                                 App        Category  Rating  \\\n",
       "0     Photo Editor & Candy Camera & Grid & ScrapBook  ART_AND_DESIGN     4.1   \n",
       "1                                Coloring book moana  ART_AND_DESIGN     3.9   \n",
       "2  U Launcher Lite – FREE Live Cool Themes, Hide ...  ART_AND_DESIGN     4.7   \n",
       "3                              Sketch - Draw & Paint  ART_AND_DESIGN     4.5   \n",
       "4              Pixel Draw - Number Art Coloring Book  ART_AND_DESIGN     4.3   \n",
       "\n",
       "  Reviews  Size     Installs  Type Price Content Rating  \\\n",
       "0     159   19M      10,000+  Free     0       Everyone   \n",
       "1     967   14M     500,000+  Free     0       Everyone   \n",
       "2   87510  8.7M   5,000,000+  Free     0       Everyone   \n",
       "3  215644   25M  50,000,000+  Free     0           Teen   \n",
       "4     967  2.8M     100,000+  Free     0       Everyone   \n",
       "\n",
       "                      Genres      Last Updated         Current Ver  \\\n",
       "0               Art & Design   January 7, 2018               1.0.0   \n",
       "1  Art & Design;Pretend Play  January 15, 2018               2.0.0   \n",
       "2               Art & Design    August 1, 2018               1.2.4   \n",
       "3               Art & Design      June 8, 2018  Varies with device   \n",
       "4    Art & Design;Creativity     June 20, 2018                 1.1   \n",
       "\n",
       "    Android Ver  \n",
       "0  4.0.3 and up  \n",
       "1  4.0.3 and up  \n",
       "2  4.0.3 and up  \n",
       "3    4.2 and up  \n",
       "4    4.4 and up  "
      ]
     },
     "execution_count": 4,
     "metadata": {},
     "output_type": "execute_result"
    }
   ],
   "source": [
    "playstore.head()"
   ]
  },
  {
   "cell_type": "code",
   "execution_count": 5,
   "id": "675a1f4b-1918-4ed0-9813-1f23b02164f4",
   "metadata": {},
   "outputs": [
    {
     "data": {
      "text/html": [
       "<div>\n",
       "<style scoped>\n",
       "    .dataframe tbody tr th:only-of-type {\n",
       "        vertical-align: middle;\n",
       "    }\n",
       "\n",
       "    .dataframe tbody tr th {\n",
       "        vertical-align: top;\n",
       "    }\n",
       "\n",
       "    .dataframe thead th {\n",
       "        text-align: right;\n",
       "    }\n",
       "</style>\n",
       "<table border=\"1\" class=\"dataframe\">\n",
       "  <thead>\n",
       "    <tr style=\"text-align: right;\">\n",
       "      <th></th>\n",
       "      <th>Rating</th>\n",
       "    </tr>\n",
       "  </thead>\n",
       "  <tbody>\n",
       "    <tr>\n",
       "      <th>count</th>\n",
       "      <td>9367.000000</td>\n",
       "    </tr>\n",
       "    <tr>\n",
       "      <th>mean</th>\n",
       "      <td>4.193338</td>\n",
       "    </tr>\n",
       "    <tr>\n",
       "      <th>std</th>\n",
       "      <td>0.537431</td>\n",
       "    </tr>\n",
       "    <tr>\n",
       "      <th>min</th>\n",
       "      <td>1.000000</td>\n",
       "    </tr>\n",
       "    <tr>\n",
       "      <th>25%</th>\n",
       "      <td>4.000000</td>\n",
       "    </tr>\n",
       "    <tr>\n",
       "      <th>50%</th>\n",
       "      <td>4.300000</td>\n",
       "    </tr>\n",
       "    <tr>\n",
       "      <th>75%</th>\n",
       "      <td>4.500000</td>\n",
       "    </tr>\n",
       "    <tr>\n",
       "      <th>max</th>\n",
       "      <td>19.000000</td>\n",
       "    </tr>\n",
       "  </tbody>\n",
       "</table>\n",
       "</div>"
      ],
      "text/plain": [
       "            Rating\n",
       "count  9367.000000\n",
       "mean      4.193338\n",
       "std       0.537431\n",
       "min       1.000000\n",
       "25%       4.000000\n",
       "50%       4.300000\n",
       "75%       4.500000\n",
       "max      19.000000"
      ]
     },
     "execution_count": 5,
     "metadata": {},
     "output_type": "execute_result"
    }
   ],
   "source": [
    "playstore.describe()"
   ]
  },
  {
   "cell_type": "code",
   "execution_count": 6,
   "id": "c4f64564-b85d-4fb2-86d2-ae5a232f7e2f",
   "metadata": {},
   "outputs": [
    {
     "name": "stdout",
     "output_type": "stream",
     "text": [
      "<class 'pandas.core.frame.DataFrame'>\n",
      "RangeIndex: 10841 entries, 0 to 10840\n",
      "Data columns (total 13 columns):\n",
      " #   Column          Non-Null Count  Dtype  \n",
      "---  ------          --------------  -----  \n",
      " 0   App             10841 non-null  object \n",
      " 1   Category        10841 non-null  object \n",
      " 2   Rating          9367 non-null   float64\n",
      " 3   Reviews         10841 non-null  object \n",
      " 4   Size            10841 non-null  object \n",
      " 5   Installs        10841 non-null  object \n",
      " 6   Type            10840 non-null  object \n",
      " 7   Price           10841 non-null  object \n",
      " 8   Content Rating  10840 non-null  object \n",
      " 9   Genres          10841 non-null  object \n",
      " 10  Last Updated    10841 non-null  object \n",
      " 11  Current Ver     10833 non-null  object \n",
      " 12  Android Ver     10838 non-null  object \n",
      "dtypes: float64(1), object(12)\n",
      "memory usage: 1.1+ MB\n"
     ]
    }
   ],
   "source": [
    "playstore.info()"
   ]
  },
  {
   "cell_type": "markdown",
   "id": "8d331413-f45b-4672-885e-a6137c00b564",
   "metadata": {},
   "source": [
    "proplem 1: reviews column is string type\n",
    "problem 2: We need to remove 'M' letters in size column and change its type to float\n",
    "problem 3: We need to remove '+' from installs column and change it to almost_installs and change its type to int\n",
    "problem 4: We need to split sub category in generes column \n",
    "problem 5: change the type of last updated column to dt\n",
    "problem 6: Change the type of current ver to float\n",
    "problem 7: Change the column Andorid Ver to mini_Andorid_Ver remove \"and up\"\n",
    "problem 8: Working with missing data in Rating,Type,content rating,current ver,andorid ver\n",
    "problem 9: Check for outliers and dealing with them\n",
    "problem 10: Feature engineering \n",
    "problem 11: Data transformation"
   ]
  },
  {
   "cell_type": "markdown",
   "id": "09ac967b-0865-4f75-a5e0-3e5e33b863f8",
   "metadata": {},
   "source": [
    "**Reviews column is string type**"
   ]
  },
  {
   "cell_type": "code",
   "execution_count": 7,
   "id": "4e6a5cce-fd55-4f35-9afd-8421d7eeab11",
   "metadata": {},
   "outputs": [
    {
     "data": {
      "text/plain": [
       "np.int64(1)"
      ]
     },
     "execution_count": 7,
     "metadata": {},
     "output_type": "execute_result"
    }
   ],
   "source": [
    "#when changing column to int there was an error that there is a string value in column, i want to check how many\n",
    "mask = ~playstore['Reviews'].astype(str).str.replace('.', '', 1).str.isnumeric()\n",
    "playstore[mask].head()\n",
    "mask.sum()"
   ]
  },
  {
   "cell_type": "code",
   "execution_count": 8,
   "id": "b8a97300-3005-4ab3-a0e8-1d3458c834e6",
   "metadata": {},
   "outputs": [],
   "source": [
    "#Droping this row as it is only one and change column type\n",
    "playstore = playstore[~mask]"
   ]
  },
  {
   "cell_type": "code",
   "execution_count": 9,
   "id": "81782efd-8761-4ffd-8478-045dce5a1046",
   "metadata": {},
   "outputs": [],
   "source": [
    "playstore['Reviews'] = playstore['Reviews'].astype(int)"
   ]
  },
  {
   "cell_type": "code",
   "execution_count": 10,
   "id": "0713282a-f7c2-41e8-9b15-1b713c8d8d6f",
   "metadata": {},
   "outputs": [
    {
     "name": "stdout",
     "output_type": "stream",
     "text": [
      "<class 'pandas.core.frame.DataFrame'>\n",
      "Index: 10840 entries, 0 to 10840\n",
      "Data columns (total 13 columns):\n",
      " #   Column          Non-Null Count  Dtype  \n",
      "---  ------          --------------  -----  \n",
      " 0   App             10840 non-null  object \n",
      " 1   Category        10840 non-null  object \n",
      " 2   Rating          9366 non-null   float64\n",
      " 3   Reviews         10840 non-null  int64  \n",
      " 4   Size            10840 non-null  object \n",
      " 5   Installs        10840 non-null  object \n",
      " 6   Type            10839 non-null  object \n",
      " 7   Price           10840 non-null  object \n",
      " 8   Content Rating  10840 non-null  object \n",
      " 9   Genres          10840 non-null  object \n",
      " 10  Last Updated    10840 non-null  object \n",
      " 11  Current Ver     10832 non-null  object \n",
      " 12  Android Ver     10838 non-null  object \n",
      "dtypes: float64(1), int64(1), object(11)\n",
      "memory usage: 1.2+ MB\n"
     ]
    }
   ],
   "source": [
    "playstore.info()"
   ]
  },
  {
   "cell_type": "markdown",
   "id": "531d51c8-9ffb-41a8-ab0e-1e784dc24355",
   "metadata": {},
   "source": [
    "**We need to remove 'M','k' and 'Varies with device' in size column and change its type to float**"
   ]
  },
  {
   "cell_type": "code",
   "execution_count": 11,
   "id": "6838e23e-80a4-4e54-a9c7-e76b9148526b",
   "metadata": {},
   "outputs": [
    {
     "data": {
      "text/plain": [
       "np.int64(10840)"
      ]
     },
     "execution_count": 11,
     "metadata": {},
     "output_type": "execute_result"
    }
   ],
   "source": [
    "#when changing column to int there was an error that there is a string value in column, i want to check how many\n",
    "mask = ~playstore['Size'].astype(str).str.replace('.', '', 1).str.isnumeric()\n",
    "playstore[mask].head()\n",
    "mask.sum()"
   ]
  },
  {
   "cell_type": "code",
   "execution_count": 12,
   "id": "8c3865c5-134c-47d1-8316-2fa124fc8134",
   "metadata": {},
   "outputs": [
    {
     "data": {
      "text/plain": [
       "Size\n",
       "Varies with device    1695\n",
       "11M                    198\n",
       "12M                    196\n",
       "14M                    194\n",
       "13M                    191\n",
       "                      ... \n",
       "253k                     1\n",
       "992k                     1\n",
       "658k                     1\n",
       "73k                      1\n",
       "246k                     1\n",
       "Name: count, Length: 461, dtype: int64"
      ]
     },
     "execution_count": 12,
     "metadata": {},
     "output_type": "execute_result"
    }
   ],
   "source": [
    "playstore['Size'].value_counts()"
   ]
  },
  {
   "cell_type": "code",
   "execution_count": 13,
   "id": "b6d866cf-4097-4724-bab1-8414e30b9498",
   "metadata": {},
   "outputs": [
    {
     "data": {
      "text/html": [
       "<div>\n",
       "<style scoped>\n",
       "    .dataframe tbody tr th:only-of-type {\n",
       "        vertical-align: middle;\n",
       "    }\n",
       "\n",
       "    .dataframe tbody tr th {\n",
       "        vertical-align: top;\n",
       "    }\n",
       "\n",
       "    .dataframe thead th {\n",
       "        text-align: right;\n",
       "    }\n",
       "</style>\n",
       "<table border=\"1\" class=\"dataframe\">\n",
       "  <thead>\n",
       "    <tr style=\"text-align: right;\">\n",
       "      <th></th>\n",
       "      <th>App</th>\n",
       "      <th>Category</th>\n",
       "      <th>Rating</th>\n",
       "      <th>Reviews</th>\n",
       "      <th>Size</th>\n",
       "      <th>Installs</th>\n",
       "      <th>Type</th>\n",
       "      <th>Price</th>\n",
       "      <th>Content Rating</th>\n",
       "      <th>Genres</th>\n",
       "      <th>Last Updated</th>\n",
       "      <th>Current Ver</th>\n",
       "      <th>Android Ver</th>\n",
       "    </tr>\n",
       "  </thead>\n",
       "  <tbody>\n",
       "    <tr>\n",
       "      <th>0</th>\n",
       "      <td>Photo Editor &amp; Candy Camera &amp; Grid &amp; ScrapBook</td>\n",
       "      <td>ART_AND_DESIGN</td>\n",
       "      <td>4.1</td>\n",
       "      <td>159</td>\n",
       "      <td>19</td>\n",
       "      <td>10,000+</td>\n",
       "      <td>Free</td>\n",
       "      <td>0</td>\n",
       "      <td>Everyone</td>\n",
       "      <td>Art &amp; Design</td>\n",
       "      <td>January 7, 2018</td>\n",
       "      <td>1.0.0</td>\n",
       "      <td>4.0.3 and up</td>\n",
       "    </tr>\n",
       "    <tr>\n",
       "      <th>1</th>\n",
       "      <td>Coloring book moana</td>\n",
       "      <td>ART_AND_DESIGN</td>\n",
       "      <td>3.9</td>\n",
       "      <td>967</td>\n",
       "      <td>14</td>\n",
       "      <td>500,000+</td>\n",
       "      <td>Free</td>\n",
       "      <td>0</td>\n",
       "      <td>Everyone</td>\n",
       "      <td>Art &amp; Design;Pretend Play</td>\n",
       "      <td>January 15, 2018</td>\n",
       "      <td>2.0.0</td>\n",
       "      <td>4.0.3 and up</td>\n",
       "    </tr>\n",
       "    <tr>\n",
       "      <th>2</th>\n",
       "      <td>U Launcher Lite – FREE Live Cool Themes, Hide ...</td>\n",
       "      <td>ART_AND_DESIGN</td>\n",
       "      <td>4.7</td>\n",
       "      <td>87510</td>\n",
       "      <td>8.7</td>\n",
       "      <td>5,000,000+</td>\n",
       "      <td>Free</td>\n",
       "      <td>0</td>\n",
       "      <td>Everyone</td>\n",
       "      <td>Art &amp; Design</td>\n",
       "      <td>August 1, 2018</td>\n",
       "      <td>1.2.4</td>\n",
       "      <td>4.0.3 and up</td>\n",
       "    </tr>\n",
       "    <tr>\n",
       "      <th>3</th>\n",
       "      <td>Sketch - Draw &amp; Paint</td>\n",
       "      <td>ART_AND_DESIGN</td>\n",
       "      <td>4.5</td>\n",
       "      <td>215644</td>\n",
       "      <td>25</td>\n",
       "      <td>50,000,000+</td>\n",
       "      <td>Free</td>\n",
       "      <td>0</td>\n",
       "      <td>Teen</td>\n",
       "      <td>Art &amp; Design</td>\n",
       "      <td>June 8, 2018</td>\n",
       "      <td>Varies with device</td>\n",
       "      <td>4.2 and up</td>\n",
       "    </tr>\n",
       "    <tr>\n",
       "      <th>4</th>\n",
       "      <td>Pixel Draw - Number Art Coloring Book</td>\n",
       "      <td>ART_AND_DESIGN</td>\n",
       "      <td>4.3</td>\n",
       "      <td>967</td>\n",
       "      <td>2.8</td>\n",
       "      <td>100,000+</td>\n",
       "      <td>Free</td>\n",
       "      <td>0</td>\n",
       "      <td>Everyone</td>\n",
       "      <td>Art &amp; Design;Creativity</td>\n",
       "      <td>June 20, 2018</td>\n",
       "      <td>1.1</td>\n",
       "      <td>4.4 and up</td>\n",
       "    </tr>\n",
       "  </tbody>\n",
       "</table>\n",
       "</div>"
      ],
      "text/plain": [
       "                                                 App        Category  Rating  \\\n",
       "0     Photo Editor & Candy Camera & Grid & ScrapBook  ART_AND_DESIGN     4.1   \n",
       "1                                Coloring book moana  ART_AND_DESIGN     3.9   \n",
       "2  U Launcher Lite – FREE Live Cool Themes, Hide ...  ART_AND_DESIGN     4.7   \n",
       "3                              Sketch - Draw & Paint  ART_AND_DESIGN     4.5   \n",
       "4              Pixel Draw - Number Art Coloring Book  ART_AND_DESIGN     4.3   \n",
       "\n",
       "   Reviews Size     Installs  Type Price Content Rating  \\\n",
       "0      159   19      10,000+  Free     0       Everyone   \n",
       "1      967   14     500,000+  Free     0       Everyone   \n",
       "2    87510  8.7   5,000,000+  Free     0       Everyone   \n",
       "3   215644   25  50,000,000+  Free     0           Teen   \n",
       "4      967  2.8     100,000+  Free     0       Everyone   \n",
       "\n",
       "                      Genres      Last Updated         Current Ver  \\\n",
       "0               Art & Design   January 7, 2018               1.0.0   \n",
       "1  Art & Design;Pretend Play  January 15, 2018               2.0.0   \n",
       "2               Art & Design    August 1, 2018               1.2.4   \n",
       "3               Art & Design      June 8, 2018  Varies with device   \n",
       "4    Art & Design;Creativity     June 20, 2018                 1.1   \n",
       "\n",
       "    Android Ver  \n",
       "0  4.0.3 and up  \n",
       "1  4.0.3 and up  \n",
       "2  4.0.3 and up  \n",
       "3    4.2 and up  \n",
       "4    4.4 and up  "
      ]
     },
     "execution_count": 13,
     "metadata": {},
     "output_type": "execute_result"
    }
   ],
   "source": [
    "playstore['Size'] = playstore['Size'].str.strip('M')\n",
    "playstore['Size'] = playstore['Size'].str.strip('k')\n",
    "playstore['Size'] = playstore['Size'].replace('Varies with device', np.nan)\n",
    "playstore.head()"
   ]
  },
  {
   "cell_type": "code",
   "execution_count": 14,
   "id": "ed62456a-9b55-480a-8daa-9593328b3255",
   "metadata": {},
   "outputs": [
    {
     "name": "stdout",
     "output_type": "stream",
     "text": [
      "<class 'pandas.core.frame.DataFrame'>\n",
      "Index: 10840 entries, 0 to 10840\n",
      "Data columns (total 13 columns):\n",
      " #   Column          Non-Null Count  Dtype  \n",
      "---  ------          --------------  -----  \n",
      " 0   App             10840 non-null  object \n",
      " 1   Category        10840 non-null  object \n",
      " 2   Rating          9366 non-null   float64\n",
      " 3   Reviews         10840 non-null  int64  \n",
      " 4   Size            9145 non-null   float64\n",
      " 5   Installs        10840 non-null  object \n",
      " 6   Type            10839 non-null  object \n",
      " 7   Price           10840 non-null  object \n",
      " 8   Content Rating  10840 non-null  object \n",
      " 9   Genres          10840 non-null  object \n",
      " 10  Last Updated    10840 non-null  object \n",
      " 11  Current Ver     10832 non-null  object \n",
      " 12  Android Ver     10838 non-null  object \n",
      "dtypes: float64(2), int64(1), object(10)\n",
      "memory usage: 1.2+ MB\n"
     ]
    }
   ],
   "source": [
    "playstore['Size'] = playstore['Size'].astype(float)\n",
    "playstore.info()"
   ]
  },
  {
   "cell_type": "code",
   "execution_count": 15,
   "id": "481b8040-45ce-4487-aa3c-8f553e8750a9",
   "metadata": {},
   "outputs": [
    {
     "data": {
      "text/plain": [
       "Size\n",
       "11.0     199\n",
       "12.0     196\n",
       "14.0     195\n",
       "13.0     191\n",
       "15.0     184\n",
       "        ... \n",
       "170.0      1\n",
       "970.0      1\n",
       "879.0      1\n",
       "161.0      1\n",
       "246.0      1\n",
       "Name: count, Length: 420, dtype: int64"
      ]
     },
     "execution_count": 15,
     "metadata": {},
     "output_type": "execute_result"
    }
   ],
   "source": [
    "playstore['Size'].value_counts()"
   ]
  },
  {
   "cell_type": "markdown",
   "id": "eeec6604-545b-4867-bbaa-b6bdbdefbee6",
   "metadata": {},
   "source": [
    "**We need to remove '+' from installs column and change it to almost_installs and change its type to int**"
   ]
  },
  {
   "cell_type": "code",
   "execution_count": 16,
   "id": "fdc6a261-e03a-438d-a7e3-2a0e78e08e61",
   "metadata": {},
   "outputs": [
    {
     "data": {
      "text/plain": [
       "Installs\n",
       "1,000,000+        1579\n",
       "10,000,000+       1252\n",
       "100,000+          1169\n",
       "10,000+           1054\n",
       "1,000+             907\n",
       "5,000,000+         752\n",
       "100+               719\n",
       "500,000+           539\n",
       "50,000+            479\n",
       "5,000+             477\n",
       "100,000,000+       409\n",
       "10+                386\n",
       "500+               330\n",
       "50,000,000+        289\n",
       "50+                205\n",
       "5+                  82\n",
       "500,000,000+        72\n",
       "1+                  67\n",
       "1,000,000,000+      58\n",
       "0+                  14\n",
       "0                    1\n",
       "Name: count, dtype: int64"
      ]
     },
     "execution_count": 16,
     "metadata": {},
     "output_type": "execute_result"
    }
   ],
   "source": [
    "playstore['Installs'].value_counts()"
   ]
  },
  {
   "cell_type": "code",
   "execution_count": 17,
   "id": "b0fdb7b7-ab59-4887-9c93-9dce2bcb3372",
   "metadata": {},
   "outputs": [
    {
     "data": {
      "text/html": [
       "<div>\n",
       "<style scoped>\n",
       "    .dataframe tbody tr th:only-of-type {\n",
       "        vertical-align: middle;\n",
       "    }\n",
       "\n",
       "    .dataframe tbody tr th {\n",
       "        vertical-align: top;\n",
       "    }\n",
       "\n",
       "    .dataframe thead th {\n",
       "        text-align: right;\n",
       "    }\n",
       "</style>\n",
       "<table border=\"1\" class=\"dataframe\">\n",
       "  <thead>\n",
       "    <tr style=\"text-align: right;\">\n",
       "      <th></th>\n",
       "      <th>App</th>\n",
       "      <th>Category</th>\n",
       "      <th>Rating</th>\n",
       "      <th>Reviews</th>\n",
       "      <th>Size</th>\n",
       "      <th>Installs</th>\n",
       "      <th>Type</th>\n",
       "      <th>Price</th>\n",
       "      <th>Content Rating</th>\n",
       "      <th>Genres</th>\n",
       "      <th>Last Updated</th>\n",
       "      <th>Current Ver</th>\n",
       "      <th>Android Ver</th>\n",
       "    </tr>\n",
       "  </thead>\n",
       "  <tbody>\n",
       "    <tr>\n",
       "      <th>0</th>\n",
       "      <td>Photo Editor &amp; Candy Camera &amp; Grid &amp; ScrapBook</td>\n",
       "      <td>ART_AND_DESIGN</td>\n",
       "      <td>4.1</td>\n",
       "      <td>159</td>\n",
       "      <td>19.0</td>\n",
       "      <td>10000</td>\n",
       "      <td>Free</td>\n",
       "      <td>0</td>\n",
       "      <td>Everyone</td>\n",
       "      <td>Art &amp; Design</td>\n",
       "      <td>January 7, 2018</td>\n",
       "      <td>1.0.0</td>\n",
       "      <td>4.0.3 and up</td>\n",
       "    </tr>\n",
       "    <tr>\n",
       "      <th>1</th>\n",
       "      <td>Coloring book moana</td>\n",
       "      <td>ART_AND_DESIGN</td>\n",
       "      <td>3.9</td>\n",
       "      <td>967</td>\n",
       "      <td>14.0</td>\n",
       "      <td>500000</td>\n",
       "      <td>Free</td>\n",
       "      <td>0</td>\n",
       "      <td>Everyone</td>\n",
       "      <td>Art &amp; Design;Pretend Play</td>\n",
       "      <td>January 15, 2018</td>\n",
       "      <td>2.0.0</td>\n",
       "      <td>4.0.3 and up</td>\n",
       "    </tr>\n",
       "    <tr>\n",
       "      <th>2</th>\n",
       "      <td>U Launcher Lite – FREE Live Cool Themes, Hide ...</td>\n",
       "      <td>ART_AND_DESIGN</td>\n",
       "      <td>4.7</td>\n",
       "      <td>87510</td>\n",
       "      <td>8.7</td>\n",
       "      <td>5000000</td>\n",
       "      <td>Free</td>\n",
       "      <td>0</td>\n",
       "      <td>Everyone</td>\n",
       "      <td>Art &amp; Design</td>\n",
       "      <td>August 1, 2018</td>\n",
       "      <td>1.2.4</td>\n",
       "      <td>4.0.3 and up</td>\n",
       "    </tr>\n",
       "    <tr>\n",
       "      <th>3</th>\n",
       "      <td>Sketch - Draw &amp; Paint</td>\n",
       "      <td>ART_AND_DESIGN</td>\n",
       "      <td>4.5</td>\n",
       "      <td>215644</td>\n",
       "      <td>25.0</td>\n",
       "      <td>50000000</td>\n",
       "      <td>Free</td>\n",
       "      <td>0</td>\n",
       "      <td>Teen</td>\n",
       "      <td>Art &amp; Design</td>\n",
       "      <td>June 8, 2018</td>\n",
       "      <td>Varies with device</td>\n",
       "      <td>4.2 and up</td>\n",
       "    </tr>\n",
       "    <tr>\n",
       "      <th>4</th>\n",
       "      <td>Pixel Draw - Number Art Coloring Book</td>\n",
       "      <td>ART_AND_DESIGN</td>\n",
       "      <td>4.3</td>\n",
       "      <td>967</td>\n",
       "      <td>2.8</td>\n",
       "      <td>100000</td>\n",
       "      <td>Free</td>\n",
       "      <td>0</td>\n",
       "      <td>Everyone</td>\n",
       "      <td>Art &amp; Design;Creativity</td>\n",
       "      <td>June 20, 2018</td>\n",
       "      <td>1.1</td>\n",
       "      <td>4.4 and up</td>\n",
       "    </tr>\n",
       "  </tbody>\n",
       "</table>\n",
       "</div>"
      ],
      "text/plain": [
       "                                                 App        Category  Rating  \\\n",
       "0     Photo Editor & Candy Camera & Grid & ScrapBook  ART_AND_DESIGN     4.1   \n",
       "1                                Coloring book moana  ART_AND_DESIGN     3.9   \n",
       "2  U Launcher Lite – FREE Live Cool Themes, Hide ...  ART_AND_DESIGN     4.7   \n",
       "3                              Sketch - Draw & Paint  ART_AND_DESIGN     4.5   \n",
       "4              Pixel Draw - Number Art Coloring Book  ART_AND_DESIGN     4.3   \n",
       "\n",
       "   Reviews  Size  Installs  Type Price Content Rating  \\\n",
       "0      159  19.0     10000  Free     0       Everyone   \n",
       "1      967  14.0    500000  Free     0       Everyone   \n",
       "2    87510   8.7   5000000  Free     0       Everyone   \n",
       "3   215644  25.0  50000000  Free     0           Teen   \n",
       "4      967   2.8    100000  Free     0       Everyone   \n",
       "\n",
       "                      Genres      Last Updated         Current Ver  \\\n",
       "0               Art & Design   January 7, 2018               1.0.0   \n",
       "1  Art & Design;Pretend Play  January 15, 2018               2.0.0   \n",
       "2               Art & Design    August 1, 2018               1.2.4   \n",
       "3               Art & Design      June 8, 2018  Varies with device   \n",
       "4    Art & Design;Creativity     June 20, 2018                 1.1   \n",
       "\n",
       "    Android Ver  \n",
       "0  4.0.3 and up  \n",
       "1  4.0.3 and up  \n",
       "2  4.0.3 and up  \n",
       "3    4.2 and up  \n",
       "4    4.4 and up  "
      ]
     },
     "execution_count": 17,
     "metadata": {},
     "output_type": "execute_result"
    }
   ],
   "source": [
    "playstore['Installs'] = playstore['Installs'].str.strip('+')\n",
    "playstore['Installs'] = playstore['Installs'].str.replace(',', '').str.strip()\n",
    "playstore.head()"
   ]
  },
  {
   "cell_type": "code",
   "execution_count": 18,
   "id": "6a589354-6422-4c7f-91c2-28807a2e8534",
   "metadata": {},
   "outputs": [],
   "source": [
    "playstore.rename(columns={'Installs': 'Almost_Installs'}, inplace=True)"
   ]
  },
  {
   "cell_type": "code",
   "execution_count": 19,
   "id": "4aed0824-528c-4fac-a96b-fd04be9f867f",
   "metadata": {},
   "outputs": [],
   "source": [
    "playstore['Almost_Installs'] = playstore['Almost_Installs'].astype(int)"
   ]
  },
  {
   "cell_type": "code",
   "execution_count": 20,
   "id": "a81fff8d-bc78-4d16-bc84-63b0995b0399",
   "metadata": {},
   "outputs": [
    {
     "name": "stdout",
     "output_type": "stream",
     "text": [
      "<class 'pandas.core.frame.DataFrame'>\n",
      "Index: 10840 entries, 0 to 10840\n",
      "Data columns (total 13 columns):\n",
      " #   Column           Non-Null Count  Dtype  \n",
      "---  ------           --------------  -----  \n",
      " 0   App              10840 non-null  object \n",
      " 1   Category         10840 non-null  object \n",
      " 2   Rating           9366 non-null   float64\n",
      " 3   Reviews          10840 non-null  int64  \n",
      " 4   Size             9145 non-null   float64\n",
      " 5   Almost_Installs  10840 non-null  int64  \n",
      " 6   Type             10839 non-null  object \n",
      " 7   Price            10840 non-null  object \n",
      " 8   Content Rating   10840 non-null  object \n",
      " 9   Genres           10840 non-null  object \n",
      " 10  Last Updated     10840 non-null  object \n",
      " 11  Current Ver      10832 non-null  object \n",
      " 12  Android Ver      10838 non-null  object \n",
      "dtypes: float64(2), int64(2), object(9)\n",
      "memory usage: 1.2+ MB\n"
     ]
    }
   ],
   "source": [
    "playstore.info()"
   ]
  },
  {
   "cell_type": "markdown",
   "id": "b8b74a0c-777a-427f-9e3b-ccdf3dc52a56",
   "metadata": {},
   "source": [
    "**We need to split sub category in generes column** "
   ]
  },
  {
   "cell_type": "code",
   "execution_count": 21,
   "id": "b0a3e16e-1406-4b3b-a8c7-5146124be143",
   "metadata": {},
   "outputs": [],
   "source": [
    "sub_category = playstore['Genres'].str.split(\";\", expand = True)"
   ]
  },
  {
   "cell_type": "code",
   "execution_count": 22,
   "id": "7c442e34-5ebf-4967-ae33-7e3302e18a19",
   "metadata": {},
   "outputs": [
    {
     "data": {
      "text/html": [
       "<div>\n",
       "<style scoped>\n",
       "    .dataframe tbody tr th:only-of-type {\n",
       "        vertical-align: middle;\n",
       "    }\n",
       "\n",
       "    .dataframe tbody tr th {\n",
       "        vertical-align: top;\n",
       "    }\n",
       "\n",
       "    .dataframe thead th {\n",
       "        text-align: right;\n",
       "    }\n",
       "</style>\n",
       "<table border=\"1\" class=\"dataframe\">\n",
       "  <thead>\n",
       "    <tr style=\"text-align: right;\">\n",
       "      <th></th>\n",
       "      <th>0</th>\n",
       "      <th>1</th>\n",
       "    </tr>\n",
       "  </thead>\n",
       "  <tbody>\n",
       "    <tr>\n",
       "      <th>0</th>\n",
       "      <td>Art &amp; Design</td>\n",
       "      <td>None</td>\n",
       "    </tr>\n",
       "    <tr>\n",
       "      <th>1</th>\n",
       "      <td>Art &amp; Design</td>\n",
       "      <td>Pretend Play</td>\n",
       "    </tr>\n",
       "    <tr>\n",
       "      <th>2</th>\n",
       "      <td>Art &amp; Design</td>\n",
       "      <td>None</td>\n",
       "    </tr>\n",
       "    <tr>\n",
       "      <th>3</th>\n",
       "      <td>Art &amp; Design</td>\n",
       "      <td>None</td>\n",
       "    </tr>\n",
       "    <tr>\n",
       "      <th>4</th>\n",
       "      <td>Art &amp; Design</td>\n",
       "      <td>Creativity</td>\n",
       "    </tr>\n",
       "    <tr>\n",
       "      <th>...</th>\n",
       "      <td>...</td>\n",
       "      <td>...</td>\n",
       "    </tr>\n",
       "    <tr>\n",
       "      <th>10836</th>\n",
       "      <td>Education</td>\n",
       "      <td>None</td>\n",
       "    </tr>\n",
       "    <tr>\n",
       "      <th>10837</th>\n",
       "      <td>Education</td>\n",
       "      <td>None</td>\n",
       "    </tr>\n",
       "    <tr>\n",
       "      <th>10838</th>\n",
       "      <td>Medical</td>\n",
       "      <td>None</td>\n",
       "    </tr>\n",
       "    <tr>\n",
       "      <th>10839</th>\n",
       "      <td>Books &amp; Reference</td>\n",
       "      <td>None</td>\n",
       "    </tr>\n",
       "    <tr>\n",
       "      <th>10840</th>\n",
       "      <td>Lifestyle</td>\n",
       "      <td>None</td>\n",
       "    </tr>\n",
       "  </tbody>\n",
       "</table>\n",
       "<p>10840 rows × 2 columns</p>\n",
       "</div>"
      ],
      "text/plain": [
       "                       0             1\n",
       "0           Art & Design          None\n",
       "1           Art & Design  Pretend Play\n",
       "2           Art & Design          None\n",
       "3           Art & Design          None\n",
       "4           Art & Design    Creativity\n",
       "...                  ...           ...\n",
       "10836          Education          None\n",
       "10837          Education          None\n",
       "10838            Medical          None\n",
       "10839  Books & Reference          None\n",
       "10840          Lifestyle          None\n",
       "\n",
       "[10840 rows x 2 columns]"
      ]
     },
     "execution_count": 22,
     "metadata": {},
     "output_type": "execute_result"
    }
   ],
   "source": [
    "sub_category"
   ]
  },
  {
   "cell_type": "code",
   "execution_count": 23,
   "id": "efdade56-cc0c-4366-9974-f7a83fd4fce2",
   "metadata": {},
   "outputs": [],
   "source": [
    "playstore['Genres'] = sub_category[1]"
   ]
  },
  {
   "cell_type": "code",
   "execution_count": 24,
   "id": "c7167f90-d5dc-45fd-8fc3-86c81159dc29",
   "metadata": {},
   "outputs": [
    {
     "data": {
      "text/html": [
       "<div>\n",
       "<style scoped>\n",
       "    .dataframe tbody tr th:only-of-type {\n",
       "        vertical-align: middle;\n",
       "    }\n",
       "\n",
       "    .dataframe tbody tr th {\n",
       "        vertical-align: top;\n",
       "    }\n",
       "\n",
       "    .dataframe thead th {\n",
       "        text-align: right;\n",
       "    }\n",
       "</style>\n",
       "<table border=\"1\" class=\"dataframe\">\n",
       "  <thead>\n",
       "    <tr style=\"text-align: right;\">\n",
       "      <th></th>\n",
       "      <th>App</th>\n",
       "      <th>Category</th>\n",
       "      <th>Rating</th>\n",
       "      <th>Reviews</th>\n",
       "      <th>Size</th>\n",
       "      <th>Almost_Installs</th>\n",
       "      <th>Type</th>\n",
       "      <th>Price</th>\n",
       "      <th>Content Rating</th>\n",
       "      <th>Genres</th>\n",
       "      <th>Last Updated</th>\n",
       "      <th>Current Ver</th>\n",
       "      <th>Android Ver</th>\n",
       "    </tr>\n",
       "  </thead>\n",
       "  <tbody>\n",
       "    <tr>\n",
       "      <th>0</th>\n",
       "      <td>Photo Editor &amp; Candy Camera &amp; Grid &amp; ScrapBook</td>\n",
       "      <td>ART_AND_DESIGN</td>\n",
       "      <td>4.1</td>\n",
       "      <td>159</td>\n",
       "      <td>19.0</td>\n",
       "      <td>10000</td>\n",
       "      <td>Free</td>\n",
       "      <td>0</td>\n",
       "      <td>Everyone</td>\n",
       "      <td>None</td>\n",
       "      <td>January 7, 2018</td>\n",
       "      <td>1.0.0</td>\n",
       "      <td>4.0.3 and up</td>\n",
       "    </tr>\n",
       "    <tr>\n",
       "      <th>1</th>\n",
       "      <td>Coloring book moana</td>\n",
       "      <td>ART_AND_DESIGN</td>\n",
       "      <td>3.9</td>\n",
       "      <td>967</td>\n",
       "      <td>14.0</td>\n",
       "      <td>500000</td>\n",
       "      <td>Free</td>\n",
       "      <td>0</td>\n",
       "      <td>Everyone</td>\n",
       "      <td>Pretend Play</td>\n",
       "      <td>January 15, 2018</td>\n",
       "      <td>2.0.0</td>\n",
       "      <td>4.0.3 and up</td>\n",
       "    </tr>\n",
       "    <tr>\n",
       "      <th>2</th>\n",
       "      <td>U Launcher Lite – FREE Live Cool Themes, Hide ...</td>\n",
       "      <td>ART_AND_DESIGN</td>\n",
       "      <td>4.7</td>\n",
       "      <td>87510</td>\n",
       "      <td>8.7</td>\n",
       "      <td>5000000</td>\n",
       "      <td>Free</td>\n",
       "      <td>0</td>\n",
       "      <td>Everyone</td>\n",
       "      <td>None</td>\n",
       "      <td>August 1, 2018</td>\n",
       "      <td>1.2.4</td>\n",
       "      <td>4.0.3 and up</td>\n",
       "    </tr>\n",
       "    <tr>\n",
       "      <th>3</th>\n",
       "      <td>Sketch - Draw &amp; Paint</td>\n",
       "      <td>ART_AND_DESIGN</td>\n",
       "      <td>4.5</td>\n",
       "      <td>215644</td>\n",
       "      <td>25.0</td>\n",
       "      <td>50000000</td>\n",
       "      <td>Free</td>\n",
       "      <td>0</td>\n",
       "      <td>Teen</td>\n",
       "      <td>None</td>\n",
       "      <td>June 8, 2018</td>\n",
       "      <td>Varies with device</td>\n",
       "      <td>4.2 and up</td>\n",
       "    </tr>\n",
       "    <tr>\n",
       "      <th>4</th>\n",
       "      <td>Pixel Draw - Number Art Coloring Book</td>\n",
       "      <td>ART_AND_DESIGN</td>\n",
       "      <td>4.3</td>\n",
       "      <td>967</td>\n",
       "      <td>2.8</td>\n",
       "      <td>100000</td>\n",
       "      <td>Free</td>\n",
       "      <td>0</td>\n",
       "      <td>Everyone</td>\n",
       "      <td>Creativity</td>\n",
       "      <td>June 20, 2018</td>\n",
       "      <td>1.1</td>\n",
       "      <td>4.4 and up</td>\n",
       "    </tr>\n",
       "  </tbody>\n",
       "</table>\n",
       "</div>"
      ],
      "text/plain": [
       "                                                 App        Category  Rating  \\\n",
       "0     Photo Editor & Candy Camera & Grid & ScrapBook  ART_AND_DESIGN     4.1   \n",
       "1                                Coloring book moana  ART_AND_DESIGN     3.9   \n",
       "2  U Launcher Lite – FREE Live Cool Themes, Hide ...  ART_AND_DESIGN     4.7   \n",
       "3                              Sketch - Draw & Paint  ART_AND_DESIGN     4.5   \n",
       "4              Pixel Draw - Number Art Coloring Book  ART_AND_DESIGN     4.3   \n",
       "\n",
       "   Reviews  Size  Almost_Installs  Type Price Content Rating        Genres  \\\n",
       "0      159  19.0            10000  Free     0       Everyone          None   \n",
       "1      967  14.0           500000  Free     0       Everyone  Pretend Play   \n",
       "2    87510   8.7          5000000  Free     0       Everyone          None   \n",
       "3   215644  25.0         50000000  Free     0           Teen          None   \n",
       "4      967   2.8           100000  Free     0       Everyone    Creativity   \n",
       "\n",
       "       Last Updated         Current Ver   Android Ver  \n",
       "0   January 7, 2018               1.0.0  4.0.3 and up  \n",
       "1  January 15, 2018               2.0.0  4.0.3 and up  \n",
       "2    August 1, 2018               1.2.4  4.0.3 and up  \n",
       "3      June 8, 2018  Varies with device    4.2 and up  \n",
       "4     June 20, 2018                 1.1    4.4 and up  "
      ]
     },
     "execution_count": 24,
     "metadata": {},
     "output_type": "execute_result"
    }
   ],
   "source": [
    "playstore.head()"
   ]
  },
  {
   "cell_type": "markdown",
   "id": "f6f869c6-eb2a-4284-9f8a-c266468b1740",
   "metadata": {},
   "source": [
    "**change the type of last updated column to dt**"
   ]
  },
  {
   "cell_type": "code",
   "execution_count": 25,
   "id": "3ee4d732-5ed5-42e2-9e73-7145275b5a02",
   "metadata": {},
   "outputs": [],
   "source": [
    "playstore['Last Updated'] = pd.to_datetime(playstore['Last Updated'])"
   ]
  },
  {
   "cell_type": "code",
   "execution_count": 26,
   "id": "1c7cfc91-c821-4ea3-a2dd-0016bf602c79",
   "metadata": {},
   "outputs": [
    {
     "name": "stdout",
     "output_type": "stream",
     "text": [
      "<class 'pandas.core.frame.DataFrame'>\n",
      "Index: 10840 entries, 0 to 10840\n",
      "Data columns (total 13 columns):\n",
      " #   Column           Non-Null Count  Dtype         \n",
      "---  ------           --------------  -----         \n",
      " 0   App              10840 non-null  object        \n",
      " 1   Category         10840 non-null  object        \n",
      " 2   Rating           9366 non-null   float64       \n",
      " 3   Reviews          10840 non-null  int64         \n",
      " 4   Size             9145 non-null   float64       \n",
      " 5   Almost_Installs  10840 non-null  int64         \n",
      " 6   Type             10839 non-null  object        \n",
      " 7   Price            10840 non-null  object        \n",
      " 8   Content Rating   10840 non-null  object        \n",
      " 9   Genres           498 non-null    object        \n",
      " 10  Last Updated     10840 non-null  datetime64[ns]\n",
      " 11  Current Ver      10832 non-null  object        \n",
      " 12  Android Ver      10838 non-null  object        \n",
      "dtypes: datetime64[ns](1), float64(2), int64(2), object(8)\n",
      "memory usage: 1.2+ MB\n"
     ]
    }
   ],
   "source": [
    "playstore.info()"
   ]
  },
  {
   "cell_type": "markdown",
   "id": "9c1c8b34-7dfb-40c2-a4cb-3574caf202e2",
   "metadata": {},
   "source": [
    "**Remove'$' sign from price column and change it to float type**"
   ]
  },
  {
   "cell_type": "code",
   "execution_count": 27,
   "id": "865cc0f1-431b-4c83-a5ca-c3c7c3008104",
   "metadata": {},
   "outputs": [
    {
     "data": {
      "text/plain": [
       "array(['0', '$4.99', '$3.99', '$6.99', '$1.49', '$2.99', '$7.99', '$5.99',\n",
       "       '$3.49', '$1.99', '$9.99', '$7.49', '$0.99', '$9.00', '$5.49',\n",
       "       '$10.00', '$24.99', '$11.99', '$79.99', '$16.99', '$14.99',\n",
       "       '$1.00', '$29.99', '$12.99', '$2.49', '$10.99', '$1.50', '$19.99',\n",
       "       '$15.99', '$33.99', '$74.99', '$39.99', '$3.95', '$4.49', '$1.70',\n",
       "       '$8.99', '$2.00', '$3.88', '$25.99', '$399.99', '$17.99',\n",
       "       '$400.00', '$3.02', '$1.76', '$4.84', '$4.77', '$1.61', '$2.50',\n",
       "       '$1.59', '$6.49', '$1.29', '$5.00', '$13.99', '$299.99', '$379.99',\n",
       "       '$37.99', '$18.99', '$389.99', '$19.90', '$8.49', '$1.75',\n",
       "       '$14.00', '$4.85', '$46.99', '$109.99', '$154.99', '$3.08',\n",
       "       '$2.59', '$4.80', '$1.96', '$19.40', '$3.90', '$4.59', '$15.46',\n",
       "       '$3.04', '$4.29', '$2.60', '$3.28', '$4.60', '$28.99', '$2.95',\n",
       "       '$2.90', '$1.97', '$200.00', '$89.99', '$2.56', '$30.99', '$3.61',\n",
       "       '$394.99', '$1.26', '$1.20', '$1.04'], dtype=object)"
      ]
     },
     "execution_count": 27,
     "metadata": {},
     "output_type": "execute_result"
    }
   ],
   "source": [
    "playstore['Price'].unique()"
   ]
  },
  {
   "cell_type": "code",
   "execution_count": 28,
   "id": "1acc995d-f6a6-407f-931e-5f9500eb18ef",
   "metadata": {},
   "outputs": [
    {
     "data": {
      "text/html": [
       "<div>\n",
       "<style scoped>\n",
       "    .dataframe tbody tr th:only-of-type {\n",
       "        vertical-align: middle;\n",
       "    }\n",
       "\n",
       "    .dataframe tbody tr th {\n",
       "        vertical-align: top;\n",
       "    }\n",
       "\n",
       "    .dataframe thead th {\n",
       "        text-align: right;\n",
       "    }\n",
       "</style>\n",
       "<table border=\"1\" class=\"dataframe\">\n",
       "  <thead>\n",
       "    <tr style=\"text-align: right;\">\n",
       "      <th></th>\n",
       "      <th>App</th>\n",
       "      <th>Category</th>\n",
       "      <th>Rating</th>\n",
       "      <th>Reviews</th>\n",
       "      <th>Size</th>\n",
       "      <th>Almost_Installs</th>\n",
       "      <th>Type</th>\n",
       "      <th>Price</th>\n",
       "      <th>Content Rating</th>\n",
       "      <th>Genres</th>\n",
       "      <th>Last Updated</th>\n",
       "      <th>Current Ver</th>\n",
       "      <th>Android Ver</th>\n",
       "    </tr>\n",
       "  </thead>\n",
       "  <tbody>\n",
       "    <tr>\n",
       "      <th>0</th>\n",
       "      <td>Photo Editor &amp; Candy Camera &amp; Grid &amp; ScrapBook</td>\n",
       "      <td>ART_AND_DESIGN</td>\n",
       "      <td>4.1</td>\n",
       "      <td>159</td>\n",
       "      <td>19.0</td>\n",
       "      <td>10000</td>\n",
       "      <td>Free</td>\n",
       "      <td>0.0</td>\n",
       "      <td>Everyone</td>\n",
       "      <td>None</td>\n",
       "      <td>2018-01-07</td>\n",
       "      <td>1.0.0</td>\n",
       "      <td>4.0.3 and up</td>\n",
       "    </tr>\n",
       "    <tr>\n",
       "      <th>1</th>\n",
       "      <td>Coloring book moana</td>\n",
       "      <td>ART_AND_DESIGN</td>\n",
       "      <td>3.9</td>\n",
       "      <td>967</td>\n",
       "      <td>14.0</td>\n",
       "      <td>500000</td>\n",
       "      <td>Free</td>\n",
       "      <td>0.0</td>\n",
       "      <td>Everyone</td>\n",
       "      <td>Pretend Play</td>\n",
       "      <td>2018-01-15</td>\n",
       "      <td>2.0.0</td>\n",
       "      <td>4.0.3 and up</td>\n",
       "    </tr>\n",
       "    <tr>\n",
       "      <th>2</th>\n",
       "      <td>U Launcher Lite – FREE Live Cool Themes, Hide ...</td>\n",
       "      <td>ART_AND_DESIGN</td>\n",
       "      <td>4.7</td>\n",
       "      <td>87510</td>\n",
       "      <td>8.7</td>\n",
       "      <td>5000000</td>\n",
       "      <td>Free</td>\n",
       "      <td>0.0</td>\n",
       "      <td>Everyone</td>\n",
       "      <td>None</td>\n",
       "      <td>2018-08-01</td>\n",
       "      <td>1.2.4</td>\n",
       "      <td>4.0.3 and up</td>\n",
       "    </tr>\n",
       "    <tr>\n",
       "      <th>3</th>\n",
       "      <td>Sketch - Draw &amp; Paint</td>\n",
       "      <td>ART_AND_DESIGN</td>\n",
       "      <td>4.5</td>\n",
       "      <td>215644</td>\n",
       "      <td>25.0</td>\n",
       "      <td>50000000</td>\n",
       "      <td>Free</td>\n",
       "      <td>0.0</td>\n",
       "      <td>Teen</td>\n",
       "      <td>None</td>\n",
       "      <td>2018-06-08</td>\n",
       "      <td>Varies with device</td>\n",
       "      <td>4.2 and up</td>\n",
       "    </tr>\n",
       "    <tr>\n",
       "      <th>4</th>\n",
       "      <td>Pixel Draw - Number Art Coloring Book</td>\n",
       "      <td>ART_AND_DESIGN</td>\n",
       "      <td>4.3</td>\n",
       "      <td>967</td>\n",
       "      <td>2.8</td>\n",
       "      <td>100000</td>\n",
       "      <td>Free</td>\n",
       "      <td>0.0</td>\n",
       "      <td>Everyone</td>\n",
       "      <td>Creativity</td>\n",
       "      <td>2018-06-20</td>\n",
       "      <td>1.1</td>\n",
       "      <td>4.4 and up</td>\n",
       "    </tr>\n",
       "  </tbody>\n",
       "</table>\n",
       "</div>"
      ],
      "text/plain": [
       "                                                 App        Category  Rating  \\\n",
       "0     Photo Editor & Candy Camera & Grid & ScrapBook  ART_AND_DESIGN     4.1   \n",
       "1                                Coloring book moana  ART_AND_DESIGN     3.9   \n",
       "2  U Launcher Lite – FREE Live Cool Themes, Hide ...  ART_AND_DESIGN     4.7   \n",
       "3                              Sketch - Draw & Paint  ART_AND_DESIGN     4.5   \n",
       "4              Pixel Draw - Number Art Coloring Book  ART_AND_DESIGN     4.3   \n",
       "\n",
       "   Reviews  Size  Almost_Installs  Type  Price Content Rating        Genres  \\\n",
       "0      159  19.0            10000  Free    0.0       Everyone          None   \n",
       "1      967  14.0           500000  Free    0.0       Everyone  Pretend Play   \n",
       "2    87510   8.7          5000000  Free    0.0       Everyone          None   \n",
       "3   215644  25.0         50000000  Free    0.0           Teen          None   \n",
       "4      967   2.8           100000  Free    0.0       Everyone    Creativity   \n",
       "\n",
       "  Last Updated         Current Ver   Android Ver  \n",
       "0   2018-01-07               1.0.0  4.0.3 and up  \n",
       "1   2018-01-15               2.0.0  4.0.3 and up  \n",
       "2   2018-08-01               1.2.4  4.0.3 and up  \n",
       "3   2018-06-08  Varies with device    4.2 and up  \n",
       "4   2018-06-20                 1.1    4.4 and up  "
      ]
     },
     "execution_count": 28,
     "metadata": {},
     "output_type": "execute_result"
    }
   ],
   "source": [
    "playstore['Price'] = playstore['Price'].str.strip('$')\n",
    "playstore['Price'] = playstore['Price'].astype(float)\n",
    "playstore.head()"
   ]
  },
  {
   "cell_type": "markdown",
   "id": "aef52dab-5bd2-4da3-8778-9da904f6f2cb",
   "metadata": {},
   "source": [
    "**Change the column Andorid Ver to minimum_Andorid_Ver remove \"and up\"**"
   ]
  },
  {
   "cell_type": "code",
   "execution_count": 29,
   "id": "58939a5c-a7ea-44fe-b1d5-4ed5f07fe7a0",
   "metadata": {},
   "outputs": [],
   "source": [
    "playstore['Android Ver'] = playstore['Android Ver'].str.strip(' and up')"
   ]
  },
  {
   "cell_type": "code",
   "execution_count": 30,
   "id": "8d2a1b78-93b6-4ce9-8385-053d070d2172",
   "metadata": {},
   "outputs": [
    {
     "data": {
      "text/html": [
       "<div>\n",
       "<style scoped>\n",
       "    .dataframe tbody tr th:only-of-type {\n",
       "        vertical-align: middle;\n",
       "    }\n",
       "\n",
       "    .dataframe tbody tr th {\n",
       "        vertical-align: top;\n",
       "    }\n",
       "\n",
       "    .dataframe thead th {\n",
       "        text-align: right;\n",
       "    }\n",
       "</style>\n",
       "<table border=\"1\" class=\"dataframe\">\n",
       "  <thead>\n",
       "    <tr style=\"text-align: right;\">\n",
       "      <th></th>\n",
       "      <th>App</th>\n",
       "      <th>Category</th>\n",
       "      <th>Rating</th>\n",
       "      <th>Reviews</th>\n",
       "      <th>Size</th>\n",
       "      <th>Almost_Installs</th>\n",
       "      <th>Type</th>\n",
       "      <th>Price</th>\n",
       "      <th>Content Rating</th>\n",
       "      <th>Genres</th>\n",
       "      <th>Last Updated</th>\n",
       "      <th>Current Ver</th>\n",
       "      <th>Android Ver</th>\n",
       "    </tr>\n",
       "  </thead>\n",
       "  <tbody>\n",
       "    <tr>\n",
       "      <th>0</th>\n",
       "      <td>Photo Editor &amp; Candy Camera &amp; Grid &amp; ScrapBook</td>\n",
       "      <td>ART_AND_DESIGN</td>\n",
       "      <td>4.1</td>\n",
       "      <td>159</td>\n",
       "      <td>19.0</td>\n",
       "      <td>10000</td>\n",
       "      <td>Free</td>\n",
       "      <td>0.0</td>\n",
       "      <td>Everyone</td>\n",
       "      <td>None</td>\n",
       "      <td>2018-01-07</td>\n",
       "      <td>1.0.0</td>\n",
       "      <td>4.0.3</td>\n",
       "    </tr>\n",
       "    <tr>\n",
       "      <th>1</th>\n",
       "      <td>Coloring book moana</td>\n",
       "      <td>ART_AND_DESIGN</td>\n",
       "      <td>3.9</td>\n",
       "      <td>967</td>\n",
       "      <td>14.0</td>\n",
       "      <td>500000</td>\n",
       "      <td>Free</td>\n",
       "      <td>0.0</td>\n",
       "      <td>Everyone</td>\n",
       "      <td>Pretend Play</td>\n",
       "      <td>2018-01-15</td>\n",
       "      <td>2.0.0</td>\n",
       "      <td>4.0.3</td>\n",
       "    </tr>\n",
       "    <tr>\n",
       "      <th>2</th>\n",
       "      <td>U Launcher Lite – FREE Live Cool Themes, Hide ...</td>\n",
       "      <td>ART_AND_DESIGN</td>\n",
       "      <td>4.7</td>\n",
       "      <td>87510</td>\n",
       "      <td>8.7</td>\n",
       "      <td>5000000</td>\n",
       "      <td>Free</td>\n",
       "      <td>0.0</td>\n",
       "      <td>Everyone</td>\n",
       "      <td>None</td>\n",
       "      <td>2018-08-01</td>\n",
       "      <td>1.2.4</td>\n",
       "      <td>4.0.3</td>\n",
       "    </tr>\n",
       "    <tr>\n",
       "      <th>3</th>\n",
       "      <td>Sketch - Draw &amp; Paint</td>\n",
       "      <td>ART_AND_DESIGN</td>\n",
       "      <td>4.5</td>\n",
       "      <td>215644</td>\n",
       "      <td>25.0</td>\n",
       "      <td>50000000</td>\n",
       "      <td>Free</td>\n",
       "      <td>0.0</td>\n",
       "      <td>Teen</td>\n",
       "      <td>None</td>\n",
       "      <td>2018-06-08</td>\n",
       "      <td>Varies with device</td>\n",
       "      <td>4.2</td>\n",
       "    </tr>\n",
       "    <tr>\n",
       "      <th>4</th>\n",
       "      <td>Pixel Draw - Number Art Coloring Book</td>\n",
       "      <td>ART_AND_DESIGN</td>\n",
       "      <td>4.3</td>\n",
       "      <td>967</td>\n",
       "      <td>2.8</td>\n",
       "      <td>100000</td>\n",
       "      <td>Free</td>\n",
       "      <td>0.0</td>\n",
       "      <td>Everyone</td>\n",
       "      <td>Creativity</td>\n",
       "      <td>2018-06-20</td>\n",
       "      <td>1.1</td>\n",
       "      <td>4.4</td>\n",
       "    </tr>\n",
       "  </tbody>\n",
       "</table>\n",
       "</div>"
      ],
      "text/plain": [
       "                                                 App        Category  Rating  \\\n",
       "0     Photo Editor & Candy Camera & Grid & ScrapBook  ART_AND_DESIGN     4.1   \n",
       "1                                Coloring book moana  ART_AND_DESIGN     3.9   \n",
       "2  U Launcher Lite – FREE Live Cool Themes, Hide ...  ART_AND_DESIGN     4.7   \n",
       "3                              Sketch - Draw & Paint  ART_AND_DESIGN     4.5   \n",
       "4              Pixel Draw - Number Art Coloring Book  ART_AND_DESIGN     4.3   \n",
       "\n",
       "   Reviews  Size  Almost_Installs  Type  Price Content Rating        Genres  \\\n",
       "0      159  19.0            10000  Free    0.0       Everyone          None   \n",
       "1      967  14.0           500000  Free    0.0       Everyone  Pretend Play   \n",
       "2    87510   8.7          5000000  Free    0.0       Everyone          None   \n",
       "3   215644  25.0         50000000  Free    0.0           Teen          None   \n",
       "4      967   2.8           100000  Free    0.0       Everyone    Creativity   \n",
       "\n",
       "  Last Updated         Current Ver Android Ver  \n",
       "0   2018-01-07               1.0.0       4.0.3  \n",
       "1   2018-01-15               2.0.0       4.0.3  \n",
       "2   2018-08-01               1.2.4       4.0.3  \n",
       "3   2018-06-08  Varies with device         4.2  \n",
       "4   2018-06-20                 1.1         4.4  "
      ]
     },
     "execution_count": 30,
     "metadata": {},
     "output_type": "execute_result"
    }
   ],
   "source": [
    "playstore.head()"
   ]
  },
  {
   "cell_type": "code",
   "execution_count": 31,
   "id": "da564ccb-e68c-4468-8ae0-fc084239df35",
   "metadata": {},
   "outputs": [
    {
     "data": {
      "text/plain": [
       "array(['4.0.3', '4.2', '4.4', '2.3', '3.0', '4.1', '4.0', '2.3.3',\n",
       "       'Varies with device', '2.2', '5.0', '6.0', '1.6', '1.5', '2.1',\n",
       "       '7.0', '5.1', '4.3', '4.0.3 - 7.1.1', '2.0', '3.2', '4.4W', '7.1',\n",
       "       '7.0 - 7.1.1', '8.0', '5.0 - 8.0', '3.1', '2.0.1', '4.1 - 7.1.1',\n",
       "       nan, '5.0 - 6.0', '1.0', '2.2 - 7.1.1', '5.0 - 7.1.1'],\n",
       "      dtype=object)"
      ]
     },
     "execution_count": 31,
     "metadata": {},
     "output_type": "execute_result"
    }
   ],
   "source": [
    "playstore['Android Ver'].unique()"
   ]
  },
  {
   "cell_type": "code",
   "execution_count": 32,
   "id": "b0a248e0-1481-4d36-ac39-e7bf262b7ebf",
   "metadata": {},
   "outputs": [],
   "source": [
    "playstore['Android Ver'] = playstore['Android Ver'].str.strip(\"W\")"
   ]
  },
  {
   "cell_type": "code",
   "execution_count": 33,
   "id": "de9ab8d9-e4c9-4045-bf3d-12f6edcf5fc4",
   "metadata": {},
   "outputs": [
    {
     "data": {
      "text/plain": [
       "array(['4.0.3', '4.2', '4.4', '2.3', '3.0', '4.1', '4.0', '2.3.3',\n",
       "       'Varies with device', '2.2', '5.0', '6.0', '1.6', '1.5', '2.1',\n",
       "       '7.0', '5.1', '4.3', '4.0.3 - 7.1.1', '2.0', '3.2', '7.1',\n",
       "       '7.0 - 7.1.1', '8.0', '5.0 - 8.0', '3.1', '2.0.1', '4.1 - 7.1.1',\n",
       "       nan, '5.0 - 6.0', '1.0', '2.2 - 7.1.1', '5.0 - 7.1.1'],\n",
       "      dtype=object)"
      ]
     },
     "execution_count": 33,
     "metadata": {},
     "output_type": "execute_result"
    }
   ],
   "source": [
    "playstore['Android Ver'].unique()"
   ]
  },
  {
   "cell_type": "code",
   "execution_count": 34,
   "id": "884954a5-ca15-4c59-a893-d3109a93b684",
   "metadata": {},
   "outputs": [
    {
     "data": {
      "text/plain": [
       "Android Ver\n",
       "4.1                   2451\n",
       "4.0.3                 1501\n",
       "4.0                   1375\n",
       "Varies with device    1362\n",
       "4.4                    992\n",
       "2.3                    652\n",
       "5.0                    601\n",
       "4.2                    394\n",
       "2.3.3                  281\n",
       "2.2                    244\n",
       "4.3                    243\n",
       "3.0                    241\n",
       "2.1                    134\n",
       "1.6                    116\n",
       "6.0                     60\n",
       "7.0                     42\n",
       "3.2                     36\n",
       "2.0                     32\n",
       "5.1                     24\n",
       "1.5                     20\n",
       "3.1                     10\n",
       "2.0.1                    7\n",
       "8.0                      6\n",
       "7.1                      3\n",
       "5.0 - 8.0                2\n",
       "4.0.3 - 7.1.1            2\n",
       "1.0                      2\n",
       "7.0 - 7.1.1              1\n",
       "4.1 - 7.1.1              1\n",
       "5.0 - 6.0                1\n",
       "2.2 - 7.1.1              1\n",
       "5.0 - 7.1.1              1\n",
       "Name: count, dtype: int64"
      ]
     },
     "execution_count": 34,
     "metadata": {},
     "output_type": "execute_result"
    }
   ],
   "source": [
    "playstore['Android Ver'].value_counts()"
   ]
  },
  {
   "cell_type": "code",
   "execution_count": 35,
   "id": "87cdd24b-6f7c-4a68-a146-f4e7609f5e12",
   "metadata": {},
   "outputs": [],
   "source": [
    "playstore['Android Ver'] = playstore['Android Ver'].str.split('-').str[0]"
   ]
  },
  {
   "cell_type": "code",
   "execution_count": 36,
   "id": "128b85b8-f55e-4393-ad03-bf11465f488a",
   "metadata": {},
   "outputs": [
    {
     "data": {
      "text/plain": [
       "Android Ver\n",
       "4.1                   2451\n",
       "4.0.3                 1501\n",
       "4.0                   1375\n",
       "Varies with device    1362\n",
       "4.4                    992\n",
       "2.3                    652\n",
       "5.0                    601\n",
       "4.2                    394\n",
       "2.3.3                  281\n",
       "2.2                    244\n",
       "4.3                    243\n",
       "3.0                    241\n",
       "2.1                    134\n",
       "1.6                    116\n",
       "6.0                     60\n",
       "7.0                     42\n",
       "3.2                     36\n",
       "2.0                     32\n",
       "5.1                     24\n",
       "1.5                     20\n",
       "3.1                     10\n",
       "2.0.1                    7\n",
       "8.0                      6\n",
       "5.0                      4\n",
       "7.1                      3\n",
       "4.0.3                    2\n",
       "1.0                      2\n",
       "7.0                      1\n",
       "4.1                      1\n",
       "2.2                      1\n",
       "Name: count, dtype: int64"
      ]
     },
     "execution_count": 36,
     "metadata": {},
     "output_type": "execute_result"
    }
   ],
   "source": [
    "playstore['Android Ver'].value_counts()"
   ]
  },
  {
   "cell_type": "code",
   "execution_count": 37,
   "id": "912b5805-1868-4c3e-ac17-5d4db14b37ff",
   "metadata": {},
   "outputs": [],
   "source": [
    "playstore.rename(columns={'Android Ver': 'Minimum Android Ver'}, inplace=True)"
   ]
  },
  {
   "cell_type": "code",
   "execution_count": 38,
   "id": "c1d68c72-5061-4deb-9cd5-5caa520ff89e",
   "metadata": {},
   "outputs": [
    {
     "data": {
      "text/html": [
       "<div>\n",
       "<style scoped>\n",
       "    .dataframe tbody tr th:only-of-type {\n",
       "        vertical-align: middle;\n",
       "    }\n",
       "\n",
       "    .dataframe tbody tr th {\n",
       "        vertical-align: top;\n",
       "    }\n",
       "\n",
       "    .dataframe thead th {\n",
       "        text-align: right;\n",
       "    }\n",
       "</style>\n",
       "<table border=\"1\" class=\"dataframe\">\n",
       "  <thead>\n",
       "    <tr style=\"text-align: right;\">\n",
       "      <th></th>\n",
       "      <th>App</th>\n",
       "      <th>Category</th>\n",
       "      <th>Rating</th>\n",
       "      <th>Reviews</th>\n",
       "      <th>Size</th>\n",
       "      <th>Almost_Installs</th>\n",
       "      <th>Type</th>\n",
       "      <th>Price</th>\n",
       "      <th>Content Rating</th>\n",
       "      <th>Genres</th>\n",
       "      <th>Last Updated</th>\n",
       "      <th>Current Ver</th>\n",
       "      <th>Minimum Android Ver</th>\n",
       "    </tr>\n",
       "  </thead>\n",
       "  <tbody>\n",
       "    <tr>\n",
       "      <th>0</th>\n",
       "      <td>Photo Editor &amp; Candy Camera &amp; Grid &amp; ScrapBook</td>\n",
       "      <td>ART_AND_DESIGN</td>\n",
       "      <td>4.1</td>\n",
       "      <td>159</td>\n",
       "      <td>19.0</td>\n",
       "      <td>10000</td>\n",
       "      <td>Free</td>\n",
       "      <td>0.0</td>\n",
       "      <td>Everyone</td>\n",
       "      <td>None</td>\n",
       "      <td>2018-01-07</td>\n",
       "      <td>1.0.0</td>\n",
       "      <td>4.0.3</td>\n",
       "    </tr>\n",
       "    <tr>\n",
       "      <th>1</th>\n",
       "      <td>Coloring book moana</td>\n",
       "      <td>ART_AND_DESIGN</td>\n",
       "      <td>3.9</td>\n",
       "      <td>967</td>\n",
       "      <td>14.0</td>\n",
       "      <td>500000</td>\n",
       "      <td>Free</td>\n",
       "      <td>0.0</td>\n",
       "      <td>Everyone</td>\n",
       "      <td>Pretend Play</td>\n",
       "      <td>2018-01-15</td>\n",
       "      <td>2.0.0</td>\n",
       "      <td>4.0.3</td>\n",
       "    </tr>\n",
       "    <tr>\n",
       "      <th>2</th>\n",
       "      <td>U Launcher Lite – FREE Live Cool Themes, Hide ...</td>\n",
       "      <td>ART_AND_DESIGN</td>\n",
       "      <td>4.7</td>\n",
       "      <td>87510</td>\n",
       "      <td>8.7</td>\n",
       "      <td>5000000</td>\n",
       "      <td>Free</td>\n",
       "      <td>0.0</td>\n",
       "      <td>Everyone</td>\n",
       "      <td>None</td>\n",
       "      <td>2018-08-01</td>\n",
       "      <td>1.2.4</td>\n",
       "      <td>4.0.3</td>\n",
       "    </tr>\n",
       "    <tr>\n",
       "      <th>3</th>\n",
       "      <td>Sketch - Draw &amp; Paint</td>\n",
       "      <td>ART_AND_DESIGN</td>\n",
       "      <td>4.5</td>\n",
       "      <td>215644</td>\n",
       "      <td>25.0</td>\n",
       "      <td>50000000</td>\n",
       "      <td>Free</td>\n",
       "      <td>0.0</td>\n",
       "      <td>Teen</td>\n",
       "      <td>None</td>\n",
       "      <td>2018-06-08</td>\n",
       "      <td>Varies with device</td>\n",
       "      <td>4.2</td>\n",
       "    </tr>\n",
       "    <tr>\n",
       "      <th>4</th>\n",
       "      <td>Pixel Draw - Number Art Coloring Book</td>\n",
       "      <td>ART_AND_DESIGN</td>\n",
       "      <td>4.3</td>\n",
       "      <td>967</td>\n",
       "      <td>2.8</td>\n",
       "      <td>100000</td>\n",
       "      <td>Free</td>\n",
       "      <td>0.0</td>\n",
       "      <td>Everyone</td>\n",
       "      <td>Creativity</td>\n",
       "      <td>2018-06-20</td>\n",
       "      <td>1.1</td>\n",
       "      <td>4.4</td>\n",
       "    </tr>\n",
       "  </tbody>\n",
       "</table>\n",
       "</div>"
      ],
      "text/plain": [
       "                                                 App        Category  Rating  \\\n",
       "0     Photo Editor & Candy Camera & Grid & ScrapBook  ART_AND_DESIGN     4.1   \n",
       "1                                Coloring book moana  ART_AND_DESIGN     3.9   \n",
       "2  U Launcher Lite – FREE Live Cool Themes, Hide ...  ART_AND_DESIGN     4.7   \n",
       "3                              Sketch - Draw & Paint  ART_AND_DESIGN     4.5   \n",
       "4              Pixel Draw - Number Art Coloring Book  ART_AND_DESIGN     4.3   \n",
       "\n",
       "   Reviews  Size  Almost_Installs  Type  Price Content Rating        Genres  \\\n",
       "0      159  19.0            10000  Free    0.0       Everyone          None   \n",
       "1      967  14.0           500000  Free    0.0       Everyone  Pretend Play   \n",
       "2    87510   8.7          5000000  Free    0.0       Everyone          None   \n",
       "3   215644  25.0         50000000  Free    0.0           Teen          None   \n",
       "4      967   2.8           100000  Free    0.0       Everyone    Creativity   \n",
       "\n",
       "  Last Updated         Current Ver Minimum Android Ver  \n",
       "0   2018-01-07               1.0.0               4.0.3  \n",
       "1   2018-01-15               2.0.0               4.0.3  \n",
       "2   2018-08-01               1.2.4               4.0.3  \n",
       "3   2018-06-08  Varies with device                 4.2  \n",
       "4   2018-06-20                 1.1                 4.4  "
      ]
     },
     "execution_count": 38,
     "metadata": {},
     "output_type": "execute_result"
    }
   ],
   "source": [
    "playstore.head()"
   ]
  },
  {
   "cell_type": "markdown",
   "id": "52a4f131-28ac-4cd7-a9ea-04559ea79a87",
   "metadata": {},
   "source": [
    "**Check for recorded categories in content rating colummn**"
   ]
  },
  {
   "cell_type": "code",
   "execution_count": 63,
   "id": "dbed5267-ba3b-4ea9-9c67-fd0f83d2b886",
   "metadata": {},
   "outputs": [
    {
     "data": {
      "text/plain": [
       "Content Rating\n",
       "Everyone           7089\n",
       "Teen               1022\n",
       "Mature 17+          411\n",
       "Everyone 10+        360\n",
       "Adults only 18+       3\n",
       "Unrated               1\n",
       "Name: count, dtype: int64"
      ]
     },
     "execution_count": 63,
     "metadata": {},
     "output_type": "execute_result"
    }
   ],
   "source": [
    "playstore['Content Rating'].value_counts()"
   ]
  },
  {
   "cell_type": "code",
   "execution_count": 64,
   "id": "5dba499e-c937-49a7-a0bf-862f44f826ac",
   "metadata": {},
   "outputs": [],
   "source": [
    "#Drop the unrated category \n",
    "playstore = playstore[playstore['Content Rating'] != 'Unrated']"
   ]
  },
  {
   "cell_type": "markdown",
   "id": "877a7992-9f46-4a2c-a150-5150c27dcb2d",
   "metadata": {},
   "source": [
    "**Dealing with missing values**\n"
   ]
  },
  {
   "cell_type": "code",
   "execution_count": 39,
   "id": "075902b7-7cef-4631-9afc-dd68c5cfdd0c",
   "metadata": {},
   "outputs": [
    {
     "data": {
      "text/plain": [
       "App                        0\n",
       "Category                   0\n",
       "Rating                  1474\n",
       "Reviews                    0\n",
       "Size                    1695\n",
       "Almost_Installs            0\n",
       "Type                       1\n",
       "Price                      0\n",
       "Content Rating             0\n",
       "Genres                 10342\n",
       "Last Updated               0\n",
       "Current Ver                8\n",
       "Minimum Android Ver        2\n",
       "dtype: int64"
      ]
     },
     "execution_count": 39,
     "metadata": {},
     "output_type": "execute_result"
    }
   ],
   "source": [
    "# Print number of missing values\n",
    "playstore.isna().sum()"
   ]
  },
  {
   "cell_type": "markdown",
   "id": "f03ab801-48b7-4a30-b844-c56dd5341acc",
   "metadata": {},
   "source": [
    "there is about 10342 missing data in genre column so we can drop it"
   ]
  },
  {
   "cell_type": "code",
   "execution_count": 40,
   "id": "6ac7b80c-df36-4e6b-879a-a4dd0483df85",
   "metadata": {},
   "outputs": [],
   "source": [
    "playstore.drop('Genres', axis=1, inplace=True)"
   ]
  },
  {
   "cell_type": "code",
   "execution_count": 41,
   "id": "133e6a9b-3e2f-4211-b3e7-cf89746485ef",
   "metadata": {},
   "outputs": [
    {
     "data": {
      "text/html": [
       "<div>\n",
       "<style scoped>\n",
       "    .dataframe tbody tr th:only-of-type {\n",
       "        vertical-align: middle;\n",
       "    }\n",
       "\n",
       "    .dataframe tbody tr th {\n",
       "        vertical-align: top;\n",
       "    }\n",
       "\n",
       "    .dataframe thead th {\n",
       "        text-align: right;\n",
       "    }\n",
       "</style>\n",
       "<table border=\"1\" class=\"dataframe\">\n",
       "  <thead>\n",
       "    <tr style=\"text-align: right;\">\n",
       "      <th></th>\n",
       "      <th>App</th>\n",
       "      <th>Category</th>\n",
       "      <th>Rating</th>\n",
       "      <th>Reviews</th>\n",
       "      <th>Size</th>\n",
       "      <th>Almost_Installs</th>\n",
       "      <th>Type</th>\n",
       "      <th>Price</th>\n",
       "      <th>Content Rating</th>\n",
       "      <th>Last Updated</th>\n",
       "      <th>Current Ver</th>\n",
       "      <th>Minimum Android Ver</th>\n",
       "    </tr>\n",
       "  </thead>\n",
       "  <tbody>\n",
       "    <tr>\n",
       "      <th>0</th>\n",
       "      <td>Photo Editor &amp; Candy Camera &amp; Grid &amp; ScrapBook</td>\n",
       "      <td>ART_AND_DESIGN</td>\n",
       "      <td>4.1</td>\n",
       "      <td>159</td>\n",
       "      <td>19.0</td>\n",
       "      <td>10000</td>\n",
       "      <td>Free</td>\n",
       "      <td>0.0</td>\n",
       "      <td>Everyone</td>\n",
       "      <td>2018-01-07</td>\n",
       "      <td>1.0.0</td>\n",
       "      <td>4.0.3</td>\n",
       "    </tr>\n",
       "    <tr>\n",
       "      <th>1</th>\n",
       "      <td>Coloring book moana</td>\n",
       "      <td>ART_AND_DESIGN</td>\n",
       "      <td>3.9</td>\n",
       "      <td>967</td>\n",
       "      <td>14.0</td>\n",
       "      <td>500000</td>\n",
       "      <td>Free</td>\n",
       "      <td>0.0</td>\n",
       "      <td>Everyone</td>\n",
       "      <td>2018-01-15</td>\n",
       "      <td>2.0.0</td>\n",
       "      <td>4.0.3</td>\n",
       "    </tr>\n",
       "    <tr>\n",
       "      <th>2</th>\n",
       "      <td>U Launcher Lite – FREE Live Cool Themes, Hide ...</td>\n",
       "      <td>ART_AND_DESIGN</td>\n",
       "      <td>4.7</td>\n",
       "      <td>87510</td>\n",
       "      <td>8.7</td>\n",
       "      <td>5000000</td>\n",
       "      <td>Free</td>\n",
       "      <td>0.0</td>\n",
       "      <td>Everyone</td>\n",
       "      <td>2018-08-01</td>\n",
       "      <td>1.2.4</td>\n",
       "      <td>4.0.3</td>\n",
       "    </tr>\n",
       "    <tr>\n",
       "      <th>3</th>\n",
       "      <td>Sketch - Draw &amp; Paint</td>\n",
       "      <td>ART_AND_DESIGN</td>\n",
       "      <td>4.5</td>\n",
       "      <td>215644</td>\n",
       "      <td>25.0</td>\n",
       "      <td>50000000</td>\n",
       "      <td>Free</td>\n",
       "      <td>0.0</td>\n",
       "      <td>Teen</td>\n",
       "      <td>2018-06-08</td>\n",
       "      <td>Varies with device</td>\n",
       "      <td>4.2</td>\n",
       "    </tr>\n",
       "    <tr>\n",
       "      <th>4</th>\n",
       "      <td>Pixel Draw - Number Art Coloring Book</td>\n",
       "      <td>ART_AND_DESIGN</td>\n",
       "      <td>4.3</td>\n",
       "      <td>967</td>\n",
       "      <td>2.8</td>\n",
       "      <td>100000</td>\n",
       "      <td>Free</td>\n",
       "      <td>0.0</td>\n",
       "      <td>Everyone</td>\n",
       "      <td>2018-06-20</td>\n",
       "      <td>1.1</td>\n",
       "      <td>4.4</td>\n",
       "    </tr>\n",
       "  </tbody>\n",
       "</table>\n",
       "</div>"
      ],
      "text/plain": [
       "                                                 App        Category  Rating  \\\n",
       "0     Photo Editor & Candy Camera & Grid & ScrapBook  ART_AND_DESIGN     4.1   \n",
       "1                                Coloring book moana  ART_AND_DESIGN     3.9   \n",
       "2  U Launcher Lite – FREE Live Cool Themes, Hide ...  ART_AND_DESIGN     4.7   \n",
       "3                              Sketch - Draw & Paint  ART_AND_DESIGN     4.5   \n",
       "4              Pixel Draw - Number Art Coloring Book  ART_AND_DESIGN     4.3   \n",
       "\n",
       "   Reviews  Size  Almost_Installs  Type  Price Content Rating Last Updated  \\\n",
       "0      159  19.0            10000  Free    0.0       Everyone   2018-01-07   \n",
       "1      967  14.0           500000  Free    0.0       Everyone   2018-01-15   \n",
       "2    87510   8.7          5000000  Free    0.0       Everyone   2018-08-01   \n",
       "3   215644  25.0         50000000  Free    0.0           Teen   2018-06-08   \n",
       "4      967   2.8           100000  Free    0.0       Everyone   2018-06-20   \n",
       "\n",
       "          Current Ver Minimum Android Ver  \n",
       "0               1.0.0               4.0.3  \n",
       "1               2.0.0               4.0.3  \n",
       "2               1.2.4               4.0.3  \n",
       "3  Varies with device                 4.2  \n",
       "4                 1.1                 4.4  "
      ]
     },
     "execution_count": 41,
     "metadata": {},
     "output_type": "execute_result"
    }
   ],
   "source": [
    "playstore.head()"
   ]
  },
  {
   "cell_type": "code",
   "execution_count": 43,
   "id": "91c78f75-52af-4ed3-8ce2-310c717c73a0",
   "metadata": {},
   "outputs": [
    {
     "data": {
      "image/png": "[encoded data removed]",
      "text/plain": [
       "<Figure size 2500x1000 with 2 Axes>"
      ]
     },
     "metadata": {},
     "output_type": "display_data"
    }
   ],
   "source": [
    "msno.matrix(playstore)\n",
    "plt.show()"
   ]
  },
  {
   "cell_type": "code",
   "execution_count": 44,
   "id": "4f2b88af-036e-4efb-a142-1901515826b3",
   "metadata": {},
   "outputs": [],
   "source": [
    "#dropping rating missing data is better than replacing them with median or mean as it will be fake data and can affect statistics \n",
    "playstore.dropna(subset=['Rating'], inplace=True)"
   ]
  },
  {
   "cell_type": "code",
   "execution_count": 45,
   "id": "97601f26-8c94-4311-8ca8-977b3e5f74b8",
   "metadata": {},
   "outputs": [
    {
     "data": {
      "text/plain": [
       "App                       0\n",
       "Category                  0\n",
       "Rating                    0\n",
       "Reviews                   0\n",
       "Size                   1637\n",
       "Almost_Installs           0\n",
       "Type                      0\n",
       "Price                     0\n",
       "Content Rating            0\n",
       "Last Updated              0\n",
       "Current Ver               4\n",
       "Minimum Android Ver       2\n",
       "dtype: int64"
      ]
     },
     "execution_count": 45,
     "metadata": {},
     "output_type": "execute_result"
    }
   ],
   "source": [
    "playstore.isna().sum()"
   ]
  },
  {
   "cell_type": "code",
   "execution_count": 54,
   "id": "e13f8428-4541-48ff-9443-905e271bdd11",
   "metadata": {},
   "outputs": [],
   "source": [
    "#replacing missing data in size column with median\n",
    "playstore['Size'] = playstore['Size'].fillna(playstore['Size'].median())"
   ]
  },
  {
   "cell_type": "code",
   "execution_count": 49,
   "id": "25a328b6-5ab5-454c-95e2-f3f8e75f6dee",
   "metadata": {},
   "outputs": [
    {
     "data": {
      "text/plain": [
       "Type\n",
       "Free    32.395688\n",
       "Paid    49.313756\n",
       "Name: Size, dtype: float64"
      ]
     },
     "execution_count": 49,
     "metadata": {},
     "output_type": "execute_result"
    }
   ],
   "source": [
    "playstore.groupby('Type')['Size'].mean()"
   ]
  },
  {
   "cell_type": "code",
   "execution_count": 52,
   "id": "7a2a4c40-3047-4150-ad7d-eb677f99ee81",
   "metadata": {},
   "outputs": [],
   "source": [
    "#removing missing data in other columns as there is only small NO. of rows\n",
    "playstore.dropna(inplace=True)"
   ]
  },
  {
   "cell_type": "code",
   "execution_count": 53,
   "id": "e1a99524-1fc8-4afa-89b6-d7c7bb086cd6",
   "metadata": {},
   "outputs": [
    {
     "name": "stdout",
     "output_type": "stream",
     "text": [
      "<class 'pandas.core.frame.DataFrame'>\n",
      "Index: 9360 entries, 0 to 10840\n",
      "Data columns (total 12 columns):\n",
      " #   Column               Non-Null Count  Dtype         \n",
      "---  ------               --------------  -----         \n",
      " 0   App                  9360 non-null   object        \n",
      " 1   Category             9360 non-null   object        \n",
      " 2   Rating               9360 non-null   float64       \n",
      " 3   Reviews              9360 non-null   int64         \n",
      " 4   Size                 9360 non-null   float64       \n",
      " 5   Almost_Installs      9360 non-null   int64         \n",
      " 6   Type                 9360 non-null   object        \n",
      " 7   Price                9360 non-null   float64       \n",
      " 8   Content Rating       9360 non-null   object        \n",
      " 9   Last Updated         9360 non-null   datetime64[ns]\n",
      " 10  Current Ver          9360 non-null   object        \n",
      " 11  Minimum Android Ver  9360 non-null   object        \n",
      "dtypes: datetime64[ns](1), float64(3), int64(2), object(6)\n",
      "memory usage: 950.6+ KB\n"
     ]
    }
   ],
   "source": [
    "playstore.info()"
   ]
  },
  {
   "cell_type": "markdown",
   "id": "4bded297-7af0-4fd6-aa06-61281aef8457",
   "metadata": {},
   "source": [
    "**Check for duplicates and removing them** "
   ]
  },
  {
   "cell_type": "code",
   "execution_count": 57,
   "id": "b856afc0-4c13-4c49-aed5-d238e3179d55",
   "metadata": {},
   "outputs": [
    {
     "data": {
      "text/plain": [
       "np.int64(474)"
      ]
     },
     "execution_count": 57,
     "metadata": {},
     "output_type": "execute_result"
    }
   ],
   "source": [
    "playstore.duplicated().sum()"
   ]
  },
  {
   "cell_type": "code",
   "execution_count": 58,
   "id": "70cf8bd6-c2a4-465f-9a07-3165237947ef",
   "metadata": {},
   "outputs": [],
   "source": [
    "playstore.drop_duplicates(inplace=True)"
   ]
  },
  {
   "cell_type": "code",
   "execution_count": 59,
   "id": "13513703-c163-484d-be4b-320d1150fb6a",
   "metadata": {},
   "outputs": [
    {
     "data": {
      "text/plain": [
       "np.int64(0)"
      ]
     },
     "execution_count": 59,
     "metadata": {},
     "output_type": "execute_result"
    }
   ],
   "source": [
    "playstore.duplicated().sum()"
   ]
  },
  {
   "cell_type": "code",
   "execution_count": 60,
   "id": "4c831882-baca-4595-a387-82f2988d96d4",
   "metadata": {},
   "outputs": [
    {
     "name": "stdout",
     "output_type": "stream",
     "text": [
      "<class 'pandas.core.frame.DataFrame'>\n",
      "Index: 8886 entries, 0 to 10840\n",
      "Data columns (total 12 columns):\n",
      " #   Column               Non-Null Count  Dtype         \n",
      "---  ------               --------------  -----         \n",
      " 0   App                  8886 non-null   object        \n",
      " 1   Category             8886 non-null   object        \n",
      " 2   Rating               8886 non-null   float64       \n",
      " 3   Reviews              8886 non-null   int64         \n",
      " 4   Size                 8886 non-null   float64       \n",
      " 5   Almost_Installs      8886 non-null   int64         \n",
      " 6   Type                 8886 non-null   object        \n",
      " 7   Price                8886 non-null   float64       \n",
      " 8   Content Rating       8886 non-null   object        \n",
      " 9   Last Updated         8886 non-null   datetime64[ns]\n",
      " 10  Current Ver          8886 non-null   object        \n",
      " 11  Minimum Android Ver  8886 non-null   object        \n",
      "dtypes: datetime64[ns](1), float64(3), int64(2), object(6)\n",
      "memory usage: 902.5+ KB\n"
     ]
    }
   ],
   "source": [
    "playstore.info()"
   ]
  },
  {
   "cell_type": "code",
   "execution_count": 65,
   "id": "5ad31a16-6aeb-4c90-80d3-35c772301b6f",
   "metadata": {},
   "outputs": [
    {
     "data": {
      "text/plain": [
       "Content Rating\n",
       "Everyone           7089\n",
       "Teen               1022\n",
       "Mature 17+          411\n",
       "Everyone 10+        360\n",
       "Adults only 18+       3\n",
       "Name: count, dtype: int64"
      ]
     },
     "execution_count": 65,
     "metadata": {},
     "output_type": "execute_result"
    }
   ],
   "source": [
    "playstore['Content Rating'].value_counts()"
   ]
  },
  {
   "cell_type": "markdown",
   "id": "f10d87ab-fec7-4f53-a778-faec5c0e6c64",
   "metadata": {},
   "source": [
    "**Detecting Outliers and deal with them**"
   ]
  },
  {
   "cell_type": "code",
   "execution_count": 71,
   "id": "f4053811-fe9b-40f9-8ad1-07ec7976f12b",
   "metadata": {},
   "outputs": [
    {
     "data": {
      "text/html": [
       "<div>\n",
       "<style scoped>\n",
       "    .dataframe tbody tr th:only-of-type {\n",
       "        vertical-align: middle;\n",
       "    }\n",
       "\n",
       "    .dataframe tbody tr th {\n",
       "        vertical-align: top;\n",
       "    }\n",
       "\n",
       "    .dataframe thead th {\n",
       "        text-align: right;\n",
       "    }\n",
       "</style>\n",
       "<table border=\"1\" class=\"dataframe\">\n",
       "  <thead>\n",
       "    <tr style=\"text-align: right;\">\n",
       "      <th></th>\n",
       "      <th>Rating</th>\n",
       "      <th>Reviews</th>\n",
       "      <th>Size</th>\n",
       "      <th>Almost_Installs</th>\n",
       "      <th>Price</th>\n",
       "      <th>Last Updated</th>\n",
       "    </tr>\n",
       "  </thead>\n",
       "  <tbody>\n",
       "    <tr>\n",
       "      <th>count</th>\n",
       "      <td>8885.000000</td>\n",
       "      <td>8.885000e+03</td>\n",
       "      <td>8885.000000</td>\n",
       "      <td>8.885000e+03</td>\n",
       "      <td>8885.000000</td>\n",
       "      <td>8885</td>\n",
       "    </tr>\n",
       "    <tr>\n",
       "      <th>mean</th>\n",
       "      <td>4.187968</td>\n",
       "      <td>4.731459e+05</td>\n",
       "      <td>34.028115</td>\n",
       "      <td>1.650246e+07</td>\n",
       "      <td>0.963634</td>\n",
       "      <td>2017-11-22 06:08:32.954417408</td>\n",
       "    </tr>\n",
       "    <tr>\n",
       "      <th>min</th>\n",
       "      <td>1.000000</td>\n",
       "      <td>1.000000e+00</td>\n",
       "      <td>1.000000</td>\n",
       "      <td>1.000000e+00</td>\n",
       "      <td>0.000000</td>\n",
       "      <td>2010-05-21 00:00:00</td>\n",
       "    </tr>\n",
       "    <tr>\n",
       "      <th>25%</th>\n",
       "      <td>4.000000</td>\n",
       "      <td>1.640000e+02</td>\n",
       "      <td>7.300000</td>\n",
       "      <td>1.000000e+04</td>\n",
       "      <td>0.000000</td>\n",
       "      <td>2017-09-21 00:00:00</td>\n",
       "    </tr>\n",
       "    <tr>\n",
       "      <th>50%</th>\n",
       "      <td>4.300000</td>\n",
       "      <td>4.724000e+03</td>\n",
       "      <td>16.000000</td>\n",
       "      <td>5.000000e+05</td>\n",
       "      <td>0.000000</td>\n",
       "      <td>2018-05-28 00:00:00</td>\n",
       "    </tr>\n",
       "    <tr>\n",
       "      <th>75%</th>\n",
       "      <td>4.500000</td>\n",
       "      <td>7.132800e+04</td>\n",
       "      <td>31.000000</td>\n",
       "      <td>5.000000e+06</td>\n",
       "      <td>0.000000</td>\n",
       "      <td>2018-07-23 00:00:00</td>\n",
       "    </tr>\n",
       "    <tr>\n",
       "      <th>max</th>\n",
       "      <td>5.000000</td>\n",
       "      <td>7.815831e+07</td>\n",
       "      <td>994.000000</td>\n",
       "      <td>1.000000e+09</td>\n",
       "      <td>400.000000</td>\n",
       "      <td>2018-08-08 00:00:00</td>\n",
       "    </tr>\n",
       "    <tr>\n",
       "      <th>std</th>\n",
       "      <td>0.522457</td>\n",
       "      <td>2.906166e+06</td>\n",
       "      <td>87.170213</td>\n",
       "      <td>8.640882e+07</td>\n",
       "      <td>16.195701</td>\n",
       "      <td>NaN</td>\n",
       "    </tr>\n",
       "  </tbody>\n",
       "</table>\n",
       "</div>"
      ],
      "text/plain": [
       "            Rating       Reviews         Size  Almost_Installs        Price  \\\n",
       "count  8885.000000  8.885000e+03  8885.000000     8.885000e+03  8885.000000   \n",
       "mean      4.187968  4.731459e+05    34.028115     1.650246e+07     0.963634   \n",
       "min       1.000000  1.000000e+00     1.000000     1.000000e+00     0.000000   \n",
       "25%       4.000000  1.640000e+02     7.300000     1.000000e+04     0.000000   \n",
       "50%       4.300000  4.724000e+03    16.000000     5.000000e+05     0.000000   \n",
       "75%       4.500000  7.132800e+04    31.000000     5.000000e+06     0.000000   \n",
       "max       5.000000  7.815831e+07   994.000000     1.000000e+09   400.000000   \n",
       "std       0.522457  2.906166e+06    87.170213     8.640882e+07    16.195701   \n",
       "\n",
       "                        Last Updated  \n",
       "count                           8885  \n",
       "mean   2017-11-22 06:08:32.954417408  \n",
       "min              2010-05-21 00:00:00  \n",
       "25%              2017-09-21 00:00:00  \n",
       "50%              2018-05-28 00:00:00  \n",
       "75%              2018-07-23 00:00:00  \n",
       "max              2018-08-08 00:00:00  \n",
       "std                              NaN  "
      ]
     },
     "execution_count": 71,
     "metadata": {},
     "output_type": "execute_result"
    }
   ],
   "source": [
    "playstore.describe()"
   ]
  },
  {
   "cell_type": "code",
   "execution_count": 69,
   "id": "49a0be04-06aa-45ec-a461-057e5b42a8ff",
   "metadata": {},
   "outputs": [
    {
     "data": {
      "text/plain": [
       "<Axes: xlabel='Rating'>"
      ]
     },
     "execution_count": 69,
     "metadata": {},
     "output_type": "execute_result"
    },
    {
     "data": {
      "image/png": "[encoded data removed]",
      "text/plain": [
       "<Figure size 640x480 with 1 Axes>"
      ]
     },
     "metadata": {},
     "output_type": "display_data"
    }
   ],
   "source": [
    "sns.boxplot(x = 'Rating' , data = playstore)"
   ]
  },
  {
   "cell_type": "code",
   "execution_count": 88,
   "id": "191b3406-825e-4605-9a2d-5d3c7d72456f",
   "metadata": {},
   "outputs": [],
   "source": [
    "Q1_Rating = playstore['Rating'].quantile(0.25)\n",
    "Q3_Rating = playstore['Rating'].quantile(0.75)\n",
    "IQR_Rating = Q3_Rating - Q1_Rating\n",
    "lower_bound_Rating = Q1_Rating - 1.5 * IQR_Rating\n",
    "upper_bound_Rating = Q3_Rating + 1.5 * IQR_Rating"
   ]
  },
  {
   "cell_type": "code",
   "execution_count": 89,
   "id": "0144f6c3-1377-4ce0-a217-466b0fcedd11",
   "metadata": {},
   "outputs": [],
   "source": [
    "outliers_Rating = playstore[(playstore['Rating'] < lower_bound_Rating) | (playstore['Rating'] > upper_bound_Rating)]"
   ]
  },
  {
   "cell_type": "code",
   "execution_count": 90,
   "id": "74163675-0a38-4a4b-807d-ebaf8d81251b",
   "metadata": {},
   "outputs": [
    {
     "data": {
      "text/plain": [
       "494"
      ]
     },
     "execution_count": 90,
     "metadata": {},
     "output_type": "execute_result"
    }
   ],
   "source": [
    "num_outliers_Rating = outliers_Rating.shape[0]\n",
    "num_outliers_Rating"
   ]
  },
  {
   "cell_type": "code",
   "execution_count": 99,
   "id": "e8406e3f-9dfe-4f93-ab05-9f1994d7b62d",
   "metadata": {},
   "outputs": [
    {
     "data": {
      "text/plain": [
       "count    8885.000000\n",
       "mean        4.187968\n",
       "std         0.522457\n",
       "min         1.000000\n",
       "25%         4.000000\n",
       "50%         4.300000\n",
       "75%         4.500000\n",
       "max         5.000000\n",
       "Name: Rating, dtype: float64"
      ]
     },
     "execution_count": 99,
     "metadata": {},
     "output_type": "execute_result"
    }
   ],
   "source": [
    "playstore['Rating'].describe()"
   ]
  },
  {
   "cell_type": "markdown",
   "id": "29f2f287-a2c9-4bb0-90f9-8457e797a755",
   "metadata": {},
   "source": [
    "There is no invalid data all data between 1 and 5, outliers not be dropped or replaced as the data is true and logic"
   ]
  },
  {
   "cell_type": "code",
   "execution_count": 70,
   "id": "037f6791-3351-4262-afc6-88f61ee5594e",
   "metadata": {},
   "outputs": [
    {
     "data": {
      "text/plain": [
       "<Axes: xlabel='Reviews'>"
      ]
     },
     "execution_count": 70,
     "metadata": {},
     "output_type": "execute_result"
    },
    {
     "data": {
      "image/png": "[encoded data removed]",
      "text/plain": [
       "<Figure size 640x480 with 1 Axes>"
      ]
     },
     "metadata": {},
     "output_type": "display_data"
    }
   ],
   "source": [
    "sns.boxplot(x = 'Reviews' , data = playstore)"
   ]
  },
  {
   "cell_type": "code",
   "execution_count": 85,
   "id": "3e8d6bf8-33cb-47d9-ac91-93fff5763ca4",
   "metadata": {},
   "outputs": [],
   "source": [
    "Q1_Reviews = playstore['Reviews'].quantile(0.25)\n",
    "Q3_Reviews = playstore['Reviews'].quantile(0.75)\n",
    "IQR_Reviews = Q3_Reviews - Q1_Reviews\n",
    "lower_bound_Reviews = Q1_Reviews - 1.5 * IQR_Reviews\n",
    "upper_bound_Reviews = Q3_Reviews + 1.5 * IQR_Reviews"
   ]
  },
  {
   "cell_type": "code",
   "execution_count": 86,
   "id": "92fcdc36-21e7-4b87-b75d-86a39dd68284",
   "metadata": {},
   "outputs": [],
   "source": [
    "outliers_Reviews = playstore[(playstore['Reviews'] < lower_bound_Reviews) | (playstore['Reviews'] > upper_bound_Reviews)]"
   ]
  },
  {
   "cell_type": "code",
   "execution_count": 87,
   "id": "b5b44912-9a04-48e8-afec-2aae5765944a",
   "metadata": {},
   "outputs": [
    {
     "data": {
      "text/plain": [
       "1555"
      ]
     },
     "execution_count": 87,
     "metadata": {},
     "output_type": "execute_result"
    }
   ],
   "source": [
    "num_outliers_Reviews = outliers_Reviews.shape[0]\n",
    "num_outliers_Reviews"
   ]
  },
  {
   "cell_type": "code",
   "execution_count": 97,
   "id": "eefa448b-9afe-440f-9095-873656c8b21a",
   "metadata": {},
   "outputs": [
    {
     "data": {
      "text/plain": [
       "count    8.885000e+03\n",
       "mean     4.731459e+05\n",
       "std      2.906166e+06\n",
       "min      1.000000e+00\n",
       "25%      1.640000e+02\n",
       "50%      4.724000e+03\n",
       "75%      7.132800e+04\n",
       "max      7.815831e+07\n",
       "Name: Reviews, dtype: float64"
      ]
     },
     "execution_count": 97,
     "metadata": {},
     "output_type": "execute_result"
    }
   ],
   "source": [
    "playstore['Reviews'].describe()"
   ]
  },
  {
   "cell_type": "markdown",
   "id": "1233131a-8620-47e4-8cde-30b23585744e",
   "metadata": {},
   "source": [
    "Leaving outliers in reviews column as it is meaningful and logic"
   ]
  },
  {
   "cell_type": "code",
   "execution_count": 72,
   "id": "c42f14f2-f142-4cb0-af2b-04c50c335c56",
   "metadata": {},
   "outputs": [
    {
     "data": {
      "text/plain": [
       "<Axes: xlabel='Size'>"
      ]
     },
     "execution_count": 72,
     "metadata": {},
     "output_type": "execute_result"
    },
    {
     "data": {
      "image/png": "[encoded data removed]",
      "text/plain": [
       "<Figure size 640x480 with 1 Axes>"
      ]
     },
     "metadata": {},
     "output_type": "display_data"
    }
   ],
   "source": [
    "sns.boxplot(x = 'Size' , data = playstore)"
   ]
  },
  {
   "cell_type": "code",
   "execution_count": 91,
   "id": "d19781af-2dbb-4eb6-94ef-515d6086ef41",
   "metadata": {},
   "outputs": [],
   "source": [
    "Q1_Size = playstore['Size'].quantile(0.25)\n",
    "Q3_Size = playstore['Size'].quantile(0.75)\n",
    "IQR_Size = Q3_Size - Q1_Size\n",
    "lower_bound_Size = Q1_Size - 1.5 * IQR_Size\n",
    "upper_bound_Size = Q3_Size + 1.5 * IQR_Size"
   ]
  },
  {
   "cell_type": "code",
   "execution_count": 92,
   "id": "e5108ef4-2a29-4c49-bf1c-67f7e0fb51f5",
   "metadata": {},
   "outputs": [],
   "source": [
    "outliers_Size = playstore[(playstore['Size'] < lower_bound_Size) | (playstore['Size'] > upper_bound_Size)]"
   ]
  },
  {
   "cell_type": "code",
   "execution_count": 93,
   "id": "6cbe3498-56bb-4835-8cc1-28b9ccdbb56e",
   "metadata": {},
   "outputs": [
    {
     "data": {
      "text/plain": [
       "771"
      ]
     },
     "execution_count": 93,
     "metadata": {},
     "output_type": "execute_result"
    }
   ],
   "source": [
    "num_outliers_Size = outliers_Size.shape[0]\n",
    "num_outliers_Size"
   ]
  },
  {
   "cell_type": "code",
   "execution_count": 100,
   "id": "63099593-017e-4796-b2a6-22512a021b6e",
   "metadata": {},
   "outputs": [
    {
     "data": {
      "text/plain": [
       "count    8885.000000\n",
       "mean       34.028115\n",
       "std        87.170213\n",
       "min         1.000000\n",
       "25%         7.300000\n",
       "50%        16.000000\n",
       "75%        31.000000\n",
       "max       994.000000\n",
       "Name: Size, dtype: float64"
      ]
     },
     "execution_count": 100,
     "metadata": {},
     "output_type": "execute_result"
    }
   ],
   "source": [
    "playstore['Size'].describe()"
   ]
  },
  {
   "cell_type": "markdown",
   "id": "6db47276-da3d-4720-8e21-9182b1b189a9",
   "metadata": {},
   "source": [
    "Leaving outliers in size column as it is meaningful and logic"
   ]
  },
  {
   "cell_type": "code",
   "execution_count": 73,
   "id": "ab3388aa-c011-4f33-9e4f-f24d84e1afae",
   "metadata": {},
   "outputs": [
    {
     "data": {
      "text/plain": [
       "<Axes: xlabel='Almost_Installs'>"
      ]
     },
     "execution_count": 73,
     "metadata": {},
     "output_type": "execute_result"
    },
    {
     "data": {
      "image/png": "[encoded data removed]",
      "text/plain": [
       "<Figure size 640x480 with 1 Axes>"
      ]
     },
     "metadata": {},
     "output_type": "display_data"
    }
   ],
   "source": [
    "sns.boxplot(x = 'Almost_Installs' , data = playstore)"
   ]
  },
  {
   "cell_type": "code",
   "execution_count": 94,
   "id": "a46a8193-b4f6-49e3-930d-68fc76c3ec54",
   "metadata": {},
   "outputs": [],
   "source": [
    "Q1_Installs = playstore['Almost_Installs'].quantile(0.25)\n",
    "Q3_Installs = playstore['Almost_Installs'].quantile(0.75)\n",
    "IQR_Installs = Q3_Installs - Q1_Installs\n",
    "lower_bound_Installs = Q1_Installs - 1.5 * IQR_Installs\n",
    "upper_bound_Installs = Q3_Installs + 1.5 * IQR_Installs"
   ]
  },
  {
   "cell_type": "code",
   "execution_count": 95,
   "id": "e8edbcb6-4371-474b-a976-a56f4f34ab68",
   "metadata": {},
   "outputs": [],
   "source": [
    "outliers_Installs = playstore[(playstore['Almost_Installs'] < lower_bound_Installs) | (playstore['Almost_Installs'] > upper_bound_Installs)]"
   ]
  },
  {
   "cell_type": "code",
   "execution_count": 96,
   "id": "4992ffcb-988b-44c0-8487-eb54250159a5",
   "metadata": {},
   "outputs": [
    {
     "data": {
      "text/plain": [
       "751"
      ]
     },
     "execution_count": 96,
     "metadata": {},
     "output_type": "execute_result"
    }
   ],
   "source": [
    "num_outliers_Installs = outliers_Installs.shape[0]\n",
    "num_outliers_Installs"
   ]
  },
  {
   "cell_type": "code",
   "execution_count": 102,
   "id": "5429dc80-eb43-4b6a-abf7-f2cf8ed3fd07",
   "metadata": {},
   "outputs": [
    {
     "data": {
      "text/plain": [
       "count    8.885000e+03\n",
       "mean     1.650246e+07\n",
       "std      8.640882e+07\n",
       "min      1.000000e+00\n",
       "25%      1.000000e+04\n",
       "50%      5.000000e+05\n",
       "75%      5.000000e+06\n",
       "max      1.000000e+09\n",
       "Name: Almost_Installs, dtype: float64"
      ]
     },
     "execution_count": 102,
     "metadata": {},
     "output_type": "execute_result"
    }
   ],
   "source": [
    "playstore['Almost_Installs'].describe()"
   ]
  },
  {
   "cell_type": "markdown",
   "id": "0cea32d3-7d2c-41d3-acce-72772f319e9c",
   "metadata": {},
   "source": [
    "Leaving outliers in size column as it is meaningful and logic and there is no invalid values in them"
   ]
  },
  {
   "cell_type": "code",
   "execution_count": 74,
   "id": "38f17990-ab43-4f71-84d9-2b93c2c4ae18",
   "metadata": {},
   "outputs": [
    {
     "data": {
      "text/plain": [
       "<Axes: xlabel='Price'>"
      ]
     },
     "execution_count": 74,
     "metadata": {},
     "output_type": "execute_result"
    },
    {
     "data": {
      "image/png": "[encoded data removed]",
      "text/plain": [
       "<Figure size 640x480 with 1 Axes>"
      ]
     },
     "metadata": {},
     "output_type": "display_data"
    }
   ],
   "source": [
    "sns.boxplot(x = 'Price' , data = playstore)"
   ]
  },
  {
   "cell_type": "code",
   "execution_count": 109,
   "id": "2aea986c-bba8-49c3-a5d6-4a882a168bee",
   "metadata": {},
   "outputs": [],
   "source": [
    "Q1_Price = playstore['Price'].quantile(0.25)\n",
    "Q3_Price = playstore['Price'].quantile(0.75)\n",
    "IQR_Price = Q3_Price - Q1_Price\n",
    "lower_bound_Price = Q1 - 1.5 * IQR\n",
    "upper_bound = Q3 + 1.5 * IQR"
   ]
  },
  {
   "cell_type": "code",
   "execution_count": 110,
   "id": "8d9b1319-b623-4ada-945e-6a040b58c8fc",
   "metadata": {},
   "outputs": [],
   "source": [
    "outliers = playstore[(playstore['Price'] < lower_bound) | (playstore['Price'] > upper_bound)]"
   ]
  },
  {
   "cell_type": "code",
   "execution_count": 111,
   "id": "bc150fee-f467-4538-8c1d-750369587dae",
   "metadata": {},
   "outputs": [
    {
     "data": {
      "text/plain": [
       "611"
      ]
     },
     "execution_count": 111,
     "metadata": {},
     "output_type": "execute_result"
    }
   ],
   "source": [
    "num_outliers = outliers.shape[0]\n",
    "num_outliers"
   ]
  },
  {
   "cell_type": "code",
   "execution_count": 104,
   "id": "a8c6da78-07eb-4394-87b7-5c31e517166a",
   "metadata": {},
   "outputs": [
    {
     "data": {
      "text/plain": [
       "count    8885.000000\n",
       "mean        0.963634\n",
       "std        16.195701\n",
       "min         0.000000\n",
       "25%         0.000000\n",
       "50%         0.000000\n",
       "75%         0.000000\n",
       "max       400.000000\n",
       "Name: Price, dtype: float64"
      ]
     },
     "execution_count": 104,
     "metadata": {},
     "output_type": "execute_result"
    }
   ],
   "source": [
    "playstore['Price'].describe()"
   ]
  },
  {
   "cell_type": "code",
   "execution_count": 108,
   "id": "d10f376a-a2b6-4c96-a3c3-e449f3df15aa",
   "metadata": {},
   "outputs": [
    {
     "data": {
      "text/html": [
       "<div>\n",
       "<style scoped>\n",
       "    .dataframe tbody tr th:only-of-type {\n",
       "        vertical-align: middle;\n",
       "    }\n",
       "\n",
       "    .dataframe tbody tr th {\n",
       "        vertical-align: top;\n",
       "    }\n",
       "\n",
       "    .dataframe thead th {\n",
       "        text-align: right;\n",
       "    }\n",
       "</style>\n",
       "<table border=\"1\" class=\"dataframe\">\n",
       "  <thead>\n",
       "    <tr style=\"text-align: right;\">\n",
       "      <th></th>\n",
       "      <th>App</th>\n",
       "      <th>Category</th>\n",
       "      <th>Rating</th>\n",
       "      <th>Reviews</th>\n",
       "      <th>Size</th>\n",
       "      <th>Almost_Installs</th>\n",
       "      <th>Type</th>\n",
       "      <th>Price</th>\n",
       "      <th>Content Rating</th>\n",
       "      <th>Last Updated</th>\n",
       "      <th>Current Ver</th>\n",
       "      <th>Minimum Android Ver</th>\n",
       "    </tr>\n",
       "  </thead>\n",
       "  <tbody>\n",
       "    <tr>\n",
       "      <th>4197</th>\n",
       "      <td>most expensive app (H)</td>\n",
       "      <td>FAMILY</td>\n",
       "      <td>4.3</td>\n",
       "      <td>6</td>\n",
       "      <td>1.5</td>\n",
       "      <td>100</td>\n",
       "      <td>Paid</td>\n",
       "      <td>399.99</td>\n",
       "      <td>Everyone</td>\n",
       "      <td>2018-07-16</td>\n",
       "      <td>1.0</td>\n",
       "      <td>7.0</td>\n",
       "    </tr>\n",
       "    <tr>\n",
       "      <th>4362</th>\n",
       "      <td>💎 I'm rich</td>\n",
       "      <td>LIFESTYLE</td>\n",
       "      <td>3.8</td>\n",
       "      <td>718</td>\n",
       "      <td>26.0</td>\n",
       "      <td>10000</td>\n",
       "      <td>Paid</td>\n",
       "      <td>399.99</td>\n",
       "      <td>Everyone</td>\n",
       "      <td>2018-03-11</td>\n",
       "      <td>1.0.0</td>\n",
       "      <td>4.4</td>\n",
       "    </tr>\n",
       "    <tr>\n",
       "      <th>4367</th>\n",
       "      <td>I'm Rich - Trump Edition</td>\n",
       "      <td>LIFESTYLE</td>\n",
       "      <td>3.6</td>\n",
       "      <td>275</td>\n",
       "      <td>7.3</td>\n",
       "      <td>10000</td>\n",
       "      <td>Paid</td>\n",
       "      <td>400.00</td>\n",
       "      <td>Everyone</td>\n",
       "      <td>2018-05-03</td>\n",
       "      <td>1.0.1</td>\n",
       "      <td>4.1</td>\n",
       "    </tr>\n",
       "    <tr>\n",
       "      <th>5351</th>\n",
       "      <td>I am rich</td>\n",
       "      <td>LIFESTYLE</td>\n",
       "      <td>3.8</td>\n",
       "      <td>3547</td>\n",
       "      <td>1.8</td>\n",
       "      <td>100000</td>\n",
       "      <td>Paid</td>\n",
       "      <td>399.99</td>\n",
       "      <td>Everyone</td>\n",
       "      <td>2018-01-12</td>\n",
       "      <td>2.0</td>\n",
       "      <td>4.0.3</td>\n",
       "    </tr>\n",
       "    <tr>\n",
       "      <th>5354</th>\n",
       "      <td>I am Rich Plus</td>\n",
       "      <td>FAMILY</td>\n",
       "      <td>4.0</td>\n",
       "      <td>856</td>\n",
       "      <td>8.7</td>\n",
       "      <td>10000</td>\n",
       "      <td>Paid</td>\n",
       "      <td>399.99</td>\n",
       "      <td>Everyone</td>\n",
       "      <td>2018-05-19</td>\n",
       "      <td>3.0</td>\n",
       "      <td>4.4</td>\n",
       "    </tr>\n",
       "    <tr>\n",
       "      <th>5355</th>\n",
       "      <td>I am rich VIP</td>\n",
       "      <td>LIFESTYLE</td>\n",
       "      <td>3.8</td>\n",
       "      <td>411</td>\n",
       "      <td>2.6</td>\n",
       "      <td>10000</td>\n",
       "      <td>Paid</td>\n",
       "      <td>299.99</td>\n",
       "      <td>Everyone</td>\n",
       "      <td>2018-07-21</td>\n",
       "      <td>1.1.1</td>\n",
       "      <td>4.3</td>\n",
       "    </tr>\n",
       "    <tr>\n",
       "      <th>5356</th>\n",
       "      <td>I Am Rich Premium</td>\n",
       "      <td>FINANCE</td>\n",
       "      <td>4.1</td>\n",
       "      <td>1867</td>\n",
       "      <td>4.7</td>\n",
       "      <td>50000</td>\n",
       "      <td>Paid</td>\n",
       "      <td>399.99</td>\n",
       "      <td>Everyone</td>\n",
       "      <td>2017-11-12</td>\n",
       "      <td>1.6</td>\n",
       "      <td>4.0</td>\n",
       "    </tr>\n",
       "    <tr>\n",
       "      <th>5357</th>\n",
       "      <td>I am extremely Rich</td>\n",
       "      <td>LIFESTYLE</td>\n",
       "      <td>2.9</td>\n",
       "      <td>41</td>\n",
       "      <td>2.9</td>\n",
       "      <td>1000</td>\n",
       "      <td>Paid</td>\n",
       "      <td>379.99</td>\n",
       "      <td>Everyone</td>\n",
       "      <td>2018-07-01</td>\n",
       "      <td>1.0</td>\n",
       "      <td>4.0</td>\n",
       "    </tr>\n",
       "    <tr>\n",
       "      <th>5358</th>\n",
       "      <td>I am Rich!</td>\n",
       "      <td>FINANCE</td>\n",
       "      <td>3.8</td>\n",
       "      <td>93</td>\n",
       "      <td>22.0</td>\n",
       "      <td>1000</td>\n",
       "      <td>Paid</td>\n",
       "      <td>399.99</td>\n",
       "      <td>Everyone</td>\n",
       "      <td>2017-12-11</td>\n",
       "      <td>1.0</td>\n",
       "      <td>4.1</td>\n",
       "    </tr>\n",
       "    <tr>\n",
       "      <th>5359</th>\n",
       "      <td>I am rich(premium)</td>\n",
       "      <td>FINANCE</td>\n",
       "      <td>3.5</td>\n",
       "      <td>472</td>\n",
       "      <td>965.0</td>\n",
       "      <td>5000</td>\n",
       "      <td>Paid</td>\n",
       "      <td>399.99</td>\n",
       "      <td>Everyone</td>\n",
       "      <td>2017-05-01</td>\n",
       "      <td>3.4</td>\n",
       "      <td>4.4</td>\n",
       "    </tr>\n",
       "    <tr>\n",
       "      <th>5362</th>\n",
       "      <td>I Am Rich Pro</td>\n",
       "      <td>FAMILY</td>\n",
       "      <td>4.4</td>\n",
       "      <td>201</td>\n",
       "      <td>2.7</td>\n",
       "      <td>5000</td>\n",
       "      <td>Paid</td>\n",
       "      <td>399.99</td>\n",
       "      <td>Everyone</td>\n",
       "      <td>2017-05-30</td>\n",
       "      <td>1.54</td>\n",
       "      <td>1.6</td>\n",
       "    </tr>\n",
       "    <tr>\n",
       "      <th>5364</th>\n",
       "      <td>I am rich (Most expensive app)</td>\n",
       "      <td>FINANCE</td>\n",
       "      <td>4.1</td>\n",
       "      <td>129</td>\n",
       "      <td>2.7</td>\n",
       "      <td>1000</td>\n",
       "      <td>Paid</td>\n",
       "      <td>399.99</td>\n",
       "      <td>Teen</td>\n",
       "      <td>2017-12-06</td>\n",
       "      <td>2</td>\n",
       "      <td>4.0.3</td>\n",
       "    </tr>\n",
       "    <tr>\n",
       "      <th>5366</th>\n",
       "      <td>I Am Rich</td>\n",
       "      <td>FAMILY</td>\n",
       "      <td>3.6</td>\n",
       "      <td>217</td>\n",
       "      <td>4.9</td>\n",
       "      <td>10000</td>\n",
       "      <td>Paid</td>\n",
       "      <td>389.99</td>\n",
       "      <td>Everyone</td>\n",
       "      <td>2018-06-22</td>\n",
       "      <td>1.5</td>\n",
       "      <td>4.2</td>\n",
       "    </tr>\n",
       "    <tr>\n",
       "      <th>5369</th>\n",
       "      <td>I am Rich</td>\n",
       "      <td>FINANCE</td>\n",
       "      <td>4.3</td>\n",
       "      <td>180</td>\n",
       "      <td>3.8</td>\n",
       "      <td>5000</td>\n",
       "      <td>Paid</td>\n",
       "      <td>399.99</td>\n",
       "      <td>Everyone</td>\n",
       "      <td>2018-03-22</td>\n",
       "      <td>1.0</td>\n",
       "      <td>4.2</td>\n",
       "    </tr>\n",
       "    <tr>\n",
       "      <th>5373</th>\n",
       "      <td>I AM RICH PRO PLUS</td>\n",
       "      <td>FINANCE</td>\n",
       "      <td>4.0</td>\n",
       "      <td>36</td>\n",
       "      <td>41.0</td>\n",
       "      <td>1000</td>\n",
       "      <td>Paid</td>\n",
       "      <td>399.99</td>\n",
       "      <td>Everyone</td>\n",
       "      <td>2018-06-25</td>\n",
       "      <td>1.0.2</td>\n",
       "      <td>4.1</td>\n",
       "    </tr>\n",
       "  </tbody>\n",
       "</table>\n",
       "</div>"
      ],
      "text/plain": [
       "                                 App   Category  Rating  Reviews   Size  \\\n",
       "4197          most expensive app (H)     FAMILY     4.3        6    1.5   \n",
       "4362                      💎 I'm rich  LIFESTYLE     3.8      718   26.0   \n",
       "4367        I'm Rich - Trump Edition  LIFESTYLE     3.6      275    7.3   \n",
       "5351                       I am rich  LIFESTYLE     3.8     3547    1.8   \n",
       "5354                  I am Rich Plus     FAMILY     4.0      856    8.7   \n",
       "5355                   I am rich VIP  LIFESTYLE     3.8      411    2.6   \n",
       "5356               I Am Rich Premium    FINANCE     4.1     1867    4.7   \n",
       "5357             I am extremely Rich  LIFESTYLE     2.9       41    2.9   \n",
       "5358                      I am Rich!    FINANCE     3.8       93   22.0   \n",
       "5359              I am rich(premium)    FINANCE     3.5      472  965.0   \n",
       "5362                   I Am Rich Pro     FAMILY     4.4      201    2.7   \n",
       "5364  I am rich (Most expensive app)    FINANCE     4.1      129    2.7   \n",
       "5366                       I Am Rich     FAMILY     3.6      217    4.9   \n",
       "5369                       I am Rich    FINANCE     4.3      180    3.8   \n",
       "5373              I AM RICH PRO PLUS    FINANCE     4.0       36   41.0   \n",
       "\n",
       "      Almost_Installs  Type   Price Content Rating Last Updated Current Ver  \\\n",
       "4197              100  Paid  399.99       Everyone   2018-07-16         1.0   \n",
       "4362            10000  Paid  399.99       Everyone   2018-03-11       1.0.0   \n",
       "4367            10000  Paid  400.00       Everyone   2018-05-03       1.0.1   \n",
       "5351           100000  Paid  399.99       Everyone   2018-01-12         2.0   \n",
       "5354            10000  Paid  399.99       Everyone   2018-05-19         3.0   \n",
       "5355            10000  Paid  299.99       Everyone   2018-07-21       1.1.1   \n",
       "5356            50000  Paid  399.99       Everyone   2017-11-12         1.6   \n",
       "5357             1000  Paid  379.99       Everyone   2018-07-01         1.0   \n",
       "5358             1000  Paid  399.99       Everyone   2017-12-11         1.0   \n",
       "5359             5000  Paid  399.99       Everyone   2017-05-01         3.4   \n",
       "5362             5000  Paid  399.99       Everyone   2017-05-30        1.54   \n",
       "5364             1000  Paid  399.99           Teen   2017-12-06           2   \n",
       "5366            10000  Paid  389.99       Everyone   2018-06-22         1.5   \n",
       "5369             5000  Paid  399.99       Everyone   2018-03-22         1.0   \n",
       "5373             1000  Paid  399.99       Everyone   2018-06-25       1.0.2   \n",
       "\n",
       "     Minimum Android Ver  \n",
       "4197                 7.0  \n",
       "4362                 4.4  \n",
       "4367                 4.1  \n",
       "5351               4.0.3  \n",
       "5354                 4.4  \n",
       "5355                 4.3  \n",
       "5356                 4.0  \n",
       "5357                 4.0  \n",
       "5358                 4.1  \n",
       "5359                 4.4  \n",
       "5362                 1.6  \n",
       "5364               4.0.3  \n",
       "5366                 4.2  \n",
       "5369                 4.2  \n",
       "5373                 4.1  "
      ]
     },
     "execution_count": 108,
     "metadata": {},
     "output_type": "execute_result"
    }
   ],
   "source": [
    "#Check for expensive apps or they are invalid values\n",
    "playstore[playstore['Price'] > 100].head(40)"
   ]
  },
  {
   "cell_type": "markdown",
   "id": "d3852d2e-0161-48e8-b6ca-b0c6c55c6ff2",
   "metadata": {},
   "source": [
    "it seems that expensive apps is for premium apps and not invalid data, so leaving outliers as it is meaningful and true data"
   ]
  },
  {
   "cell_type": "markdown",
   "id": "85082a1f-c352-48db-a26c-3e79195bcb08",
   "metadata": {},
   "source": [
    "**Analytical Answers**"
   ]
  },
  {
   "cell_type": "markdown",
   "id": "a90a7117-fe5c-48c8-bee0-db321a63c994",
   "metadata": {},
   "source": [
    "**1. Most Expensive app in playstore**"
   ]
  },
  {
   "cell_type": "code",
   "execution_count": 117,
   "id": "baf89046-ac74-4956-82fb-a18f92ddc233",
   "metadata": {},
   "outputs": [
    {
     "data": {
      "text/html": [
       "<div>\n",
       "<style scoped>\n",
       "    .dataframe tbody tr th:only-of-type {\n",
       "        vertical-align: middle;\n",
       "    }\n",
       "\n",
       "    .dataframe tbody tr th {\n",
       "        vertical-align: top;\n",
       "    }\n",
       "\n",
       "    .dataframe thead th {\n",
       "        text-align: right;\n",
       "    }\n",
       "</style>\n",
       "<table border=\"1\" class=\"dataframe\">\n",
       "  <thead>\n",
       "    <tr style=\"text-align: right;\">\n",
       "      <th></th>\n",
       "      <th>App</th>\n",
       "      <th>Price</th>\n",
       "    </tr>\n",
       "  </thead>\n",
       "  <tbody>\n",
       "    <tr>\n",
       "      <th>4367</th>\n",
       "      <td>I'm Rich - Trump Edition</td>\n",
       "      <td>400.0</td>\n",
       "    </tr>\n",
       "  </tbody>\n",
       "</table>\n",
       "</div>"
      ],
      "text/plain": [
       "                           App  Price\n",
       "4367  I'm Rich - Trump Edition  400.0"
      ]
     },
     "execution_count": 117,
     "metadata": {},
     "output_type": "execute_result"
    }
   ],
   "source": [
    "most_expensive = playstore.sort_values(by='Price', ascending=False)\n",
    "most_expensive[['App','Price']].head(1)"
   ]
  },
  {
   "cell_type": "code",
   "execution_count": 118,
   "id": "383c939e-930d-4b60-bff2-bd9a7da8afb3",
   "metadata": {},
   "outputs": [
    {
     "data": {
      "image/png": "[encoded data removed]",
      "text/plain": [
       "<Figure size 640x480 with 1 Axes>"
      ]
     },
     "metadata": {},
     "output_type": "display_data"
    }
   ],
   "source": [
    "plt.hist(playstore['Price'], bins=50)\n",
    "plt.title('Distribution of App Prices')\n",
    "plt.xlabel('Price ($)')\n",
    "plt.ylabel('Number of Apps')\n",
    "plt.show()"
   ]
  },
  {
   "cell_type": "markdown",
   "id": "7d56aa59-92bf-436f-aa1e-5efd0d1ade33",
   "metadata": {},
   "source": [
    "**2. The genre has the highest number of apps**"
   ]
  },
  {
   "cell_type": "code",
   "execution_count": 127,
   "id": "2f6ebf92-1f0c-430d-9920-5563bfe57003",
   "metadata": {},
   "outputs": [
    {
     "data": {
      "text/plain": [
       "Category\n",
       "FAMILY                 1717\n",
       "GAME                   1074\n",
       "TOOLS                   732\n",
       "PRODUCTIVITY            334\n",
       "FINANCE                 317\n",
       "PERSONALIZATION         308\n",
       "COMMUNICATION           307\n",
       "LIFESTYLE               305\n",
       "PHOTOGRAPHY             304\n",
       "MEDICAL                 302\n",
       "SPORTS                  286\n",
       "BUSINESS                270\n",
       "HEALTH_AND_FITNESS      262\n",
       "SOCIAL                  244\n",
       "NEWS_AND_MAGAZINES      214\n",
       "TRAVEL_AND_LOCAL        205\n",
       "SHOPPING                202\n",
       "BOOKS_AND_REFERENCE     177\n",
       "VIDEO_PLAYERS           160\n",
       "DATING                  159\n",
       "EDUCATION               129\n",
       "MAPS_AND_NAVIGATION     124\n",
       "ENTERTAINMENT           111\n",
       "FOOD_AND_DRINK          106\n",
       "WEATHER                  75\n",
       "AUTO_AND_VEHICLES        73\n",
       "HOUSE_AND_HOME           68\n",
       "LIBRARIES_AND_DEMO       64\n",
       "ART_AND_DESIGN           61\n",
       "COMICS                   58\n",
       "PARENTING                50\n",
       "EVENTS                   45\n",
       "BEAUTY                   42\n",
       "Name: count, dtype: int64"
      ]
     },
     "execution_count": 127,
     "metadata": {},
     "output_type": "execute_result"
    }
   ],
   "source": [
    "#there is about 95% of detailed genres is missing data, and main genere are the same as in category\n",
    "genre_counts = playstore['Category'].value_counts()\n",
    "genre_counts"
   ]
  },
  {
   "cell_type": "code",
   "execution_count": 129,
   "id": "4558b19a-29ab-4245-9345-f886d451c32f",
   "metadata": {},
   "outputs": [
    {
     "name": "stderr",
     "output_type": "stream",
     "text": [
      "C:\\Users\\Lenovo\\AppData\\Local\\Temp\\ipykernel_22716\\1269372735.py:2: FutureWarning: \n",
      "\n",
      "Passing `palette` without assigning `hue` is deprecated and will be removed in v0.14.0. Assign the `y` variable to `hue` and set `legend=False` for the same effect.\n",
      "\n",
      "  sns.barplot(x=genre_counts.values, y=genre_counts.index, palette='coolwarm')\n"
     ]
    },
    {
     "data": {
      "image/png": "[encoded data removed]",
      "text/plain": [
       "<Figure size 1000x600 with 1 Axes>"
      ]
     },
     "metadata": {},
     "output_type": "display_data"
    }
   ],
   "source": [
    "plt.figure(figsize=(10,6))\n",
    "sns.barplot(x=genre_counts.values, y=genre_counts.index, palette='coolwarm')\n",
    "plt.title('Genres by Number of Apps')\n",
    "plt.xlabel('Number of Apps')\n",
    "plt.ylabel('Genre')\n",
    "plt.show()"
   ]
  },
  {
   "cell_type": "markdown",
   "id": "3e039d13-3d9c-4063-8bc8-070cd02cfd22",
   "metadata": {},
   "source": [
    "**3. The average size of free vs. paid apps**"
   ]
  },
  {
   "cell_type": "code",
   "execution_count": 131,
   "id": "f29ca1f3-fa7f-4ab3-93d6-92063a817473",
   "metadata": {},
   "outputs": [
    {
     "name": "stdout",
     "output_type": "stream",
     "text": [
      "Type\n",
      "Free    32.861445\n",
      "Paid    49.826841\n",
      "Name: Size, dtype: float64\n"
     ]
    }
   ],
   "source": [
    "avg_size_by_type = playstore.groupby('Type')['Size'].mean()\n",
    "print(avg_size_by_type)"
   ]
  },
  {
   "cell_type": "code",
   "execution_count": 137,
   "id": "31b20516-e2f1-4324-8c6b-88873de476d3",
   "metadata": {},
   "outputs": [
    {
     "name": "stderr",
     "output_type": "stream",
     "text": [
      "C:\\Users\\Lenovo\\AppData\\Local\\Temp\\ipykernel_22716\\4198929629.py:2: FutureWarning: \n",
      "\n",
      "Passing `palette` without assigning `hue` is deprecated and will be removed in v0.14.0. Assign the `x` variable to `hue` and set `legend=False` for the same effect.\n",
      "\n",
      "  ax = sns.barplot(x='Type', y='Size', data=playstore, palette='coolwarm')\n"
     ]
    },
    {
     "data": {
      "image/png": "[encoded data removed]",
      "text/plain": [
       "<Figure size 1000x600 with 1 Axes>"
      ]
     },
     "metadata": {},
     "output_type": "display_data"
    }
   ],
   "source": [
    "plt.figure(figsize=(10,6))\n",
    "ax = sns.barplot(x='Type', y='Size', data=playstore, palette='coolwarm')\n",
    "plt.title('Average App Size: Free vs Paid')\n",
    "plt.xlabel('App Type')\n",
    "plt.ylabel('Average Size (MB)')\n",
    "plt.show()"
   ]
  },
  {
   "cell_type": "markdown",
   "id": "1b87ab33-21c5-493f-8d2b-e7d617d7bb73",
   "metadata": {},
   "source": [
    "**4. The top 5 most expensive apps with a perfect rating (5)**"
   ]
  },
  {
   "cell_type": "code",
   "execution_count": 138,
   "id": "81e7197f-f415-4ddb-a027-cbb1e49e2567",
   "metadata": {},
   "outputs": [
    {
     "data": {
      "text/html": [
       "<div>\n",
       "<style scoped>\n",
       "    .dataframe tbody tr th:only-of-type {\n",
       "        vertical-align: middle;\n",
       "    }\n",
       "\n",
       "    .dataframe tbody tr th {\n",
       "        vertical-align: top;\n",
       "    }\n",
       "\n",
       "    .dataframe thead th {\n",
       "        text-align: right;\n",
       "    }\n",
       "</style>\n",
       "<table border=\"1\" class=\"dataframe\">\n",
       "  <thead>\n",
       "    <tr style=\"text-align: right;\">\n",
       "      <th></th>\n",
       "      <th>App</th>\n",
       "      <th>Price</th>\n",
       "      <th>Rating</th>\n",
       "    </tr>\n",
       "  </thead>\n",
       "  <tbody>\n",
       "    <tr>\n",
       "      <th>5489</th>\n",
       "      <td>AP Art History Flashcards</td>\n",
       "      <td>29.99</td>\n",
       "      <td>5.0</td>\n",
       "    </tr>\n",
       "    <tr>\n",
       "      <th>7477</th>\n",
       "      <td>USMLE Step 2 CK Flashcards</td>\n",
       "      <td>19.99</td>\n",
       "      <td>5.0</td>\n",
       "    </tr>\n",
       "    <tr>\n",
       "      <th>5482</th>\n",
       "      <td>meStudying: AP English Lit</td>\n",
       "      <td>4.99</td>\n",
       "      <td>5.0</td>\n",
       "    </tr>\n",
       "    <tr>\n",
       "      <th>7204</th>\n",
       "      <td>TI-84 CE Graphing Calculator Manual TI 84</td>\n",
       "      <td>4.99</td>\n",
       "      <td>5.0</td>\n",
       "    </tr>\n",
       "    <tr>\n",
       "      <th>5246</th>\n",
       "      <td>Hey AJ! It's Bedtime!</td>\n",
       "      <td>4.99</td>\n",
       "      <td>5.0</td>\n",
       "    </tr>\n",
       "  </tbody>\n",
       "</table>\n",
       "</div>"
      ],
      "text/plain": [
       "                                            App  Price  Rating\n",
       "5489                  AP Art History Flashcards  29.99     5.0\n",
       "7477                 USMLE Step 2 CK Flashcards  19.99     5.0\n",
       "5482                 meStudying: AP English Lit   4.99     5.0\n",
       "7204  TI-84 CE Graphing Calculator Manual TI 84   4.99     5.0\n",
       "5246                      Hey AJ! It's Bedtime!   4.99     5.0"
      ]
     },
     "execution_count": 138,
     "metadata": {},
     "output_type": "execute_result"
    }
   ],
   "source": [
    "most_rated = playstore[playstore['Rating'] == 5.0]\n",
    "top_expensive_most_rated = most_rated.sort_values(by='Price', ascending=False).head(5)\n",
    "top_expensive_most_rated[['App', 'Price', 'Rating']]"
   ]
  },
  {
   "cell_type": "code",
   "execution_count": 140,
   "id": "61815e35-26c7-4847-8e0f-5aed2a2d0b42",
   "metadata": {},
   "outputs": [
    {
     "name": "stderr",
     "output_type": "stream",
     "text": [
      "C:\\Users\\Lenovo\\AppData\\Local\\Temp\\ipykernel_22716\\794715685.py:2: FutureWarning: \n",
      "\n",
      "Passing `palette` without assigning `hue` is deprecated and will be removed in v0.14.0. Assign the `y` variable to `hue` and set `legend=False` for the same effect.\n",
      "\n",
      "  sns.barplot(x='Price', y='App', data=top_expensive_most_rated, palette='viridis')\n"
     ]
    },
    {
     "data": {
      "image/png": "[encoded data removed]",
      "text/plain": [
       "<Figure size 1000x600 with 1 Axes>"
      ]
     },
     "metadata": {},
     "output_type": "display_data"
    }
   ],
   "source": [
    "plt.figure(figsize=(10,6))\n",
    "sns.barplot(x='Price', y='App', data=top_expensive_most_rated, palette='viridis')\n",
    "plt.title('Top 5 Most Expensive Apps with Perfect Rating (5.0)')\n",
    "plt.xlabel('Price ($)')\n",
    "plt.ylabel('App Name')\n",
    "plt.show()"
   ]
  },
  {
   "cell_type": "markdown",
   "id": "65063999-fd59-49f1-aee8-60d692758b86",
   "metadata": {},
   "source": [
    "**5. No. of apps have received more than 50K reviews**"
   ]
  },
  {
   "cell_type": "code",
   "execution_count": 149,
   "id": "76b9d38c-00b1-4283-bc63-143ae47c8865",
   "metadata": {},
   "outputs": [
    {
     "data": {
      "text/html": [
       "<div>\n",
       "<style scoped>\n",
       "    .dataframe tbody tr th:only-of-type {\n",
       "        vertical-align: middle;\n",
       "    }\n",
       "\n",
       "    .dataframe tbody tr th {\n",
       "        vertical-align: top;\n",
       "    }\n",
       "\n",
       "    .dataframe thead th {\n",
       "        text-align: right;\n",
       "    }\n",
       "</style>\n",
       "<table border=\"1\" class=\"dataframe\">\n",
       "  <thead>\n",
       "    <tr style=\"text-align: right;\">\n",
       "      <th></th>\n",
       "      <th>App</th>\n",
       "      <th>Category</th>\n",
       "      <th>Rating</th>\n",
       "      <th>Reviews</th>\n",
       "      <th>Size</th>\n",
       "      <th>Almost_Installs</th>\n",
       "      <th>Type</th>\n",
       "      <th>Price</th>\n",
       "      <th>Content Rating</th>\n",
       "      <th>Last Updated</th>\n",
       "      <th>Current Ver</th>\n",
       "      <th>Minimum Android Ver</th>\n",
       "    </tr>\n",
       "  </thead>\n",
       "  <tbody>\n",
       "    <tr>\n",
       "      <th>2544</th>\n",
       "      <td>Facebook</td>\n",
       "      <td>SOCIAL</td>\n",
       "      <td>4.1</td>\n",
       "      <td>78158306</td>\n",
       "      <td>16.0</td>\n",
       "      <td>1000000000</td>\n",
       "      <td>Free</td>\n",
       "      <td>0.00</td>\n",
       "      <td>Teen</td>\n",
       "      <td>2018-08-03</td>\n",
       "      <td>Varies with device</td>\n",
       "      <td>Varies with device</td>\n",
       "    </tr>\n",
       "    <tr>\n",
       "      <th>336</th>\n",
       "      <td>WhatsApp Messenger</td>\n",
       "      <td>COMMUNICATION</td>\n",
       "      <td>4.4</td>\n",
       "      <td>69119316</td>\n",
       "      <td>16.0</td>\n",
       "      <td>1000000000</td>\n",
       "      <td>Free</td>\n",
       "      <td>0.00</td>\n",
       "      <td>Everyone</td>\n",
       "      <td>2018-08-03</td>\n",
       "      <td>Varies with device</td>\n",
       "      <td>Varies with device</td>\n",
       "    </tr>\n",
       "    <tr>\n",
       "      <th>2604</th>\n",
       "      <td>Instagram</td>\n",
       "      <td>SOCIAL</td>\n",
       "      <td>4.5</td>\n",
       "      <td>66577446</td>\n",
       "      <td>16.0</td>\n",
       "      <td>1000000000</td>\n",
       "      <td>Free</td>\n",
       "      <td>0.00</td>\n",
       "      <td>Teen</td>\n",
       "      <td>2018-07-31</td>\n",
       "      <td>Varies with device</td>\n",
       "      <td>Varies with device</td>\n",
       "    </tr>\n",
       "    <tr>\n",
       "      <th>382</th>\n",
       "      <td>Messenger – Text and Video Chat for Free</td>\n",
       "      <td>COMMUNICATION</td>\n",
       "      <td>4.0</td>\n",
       "      <td>56646578</td>\n",
       "      <td>16.0</td>\n",
       "      <td>1000000000</td>\n",
       "      <td>Free</td>\n",
       "      <td>0.00</td>\n",
       "      <td>Everyone</td>\n",
       "      <td>2018-08-01</td>\n",
       "      <td>Varies with device</td>\n",
       "      <td>Varies with device</td>\n",
       "    </tr>\n",
       "    <tr>\n",
       "      <th>1879</th>\n",
       "      <td>Clash of Clans</td>\n",
       "      <td>GAME</td>\n",
       "      <td>4.6</td>\n",
       "      <td>44893888</td>\n",
       "      <td>98.0</td>\n",
       "      <td>100000000</td>\n",
       "      <td>Free</td>\n",
       "      <td>0.00</td>\n",
       "      <td>Everyone 10+</td>\n",
       "      <td>2018-07-15</td>\n",
       "      <td>10.322.16</td>\n",
       "      <td>4.1</td>\n",
       "    </tr>\n",
       "    <tr>\n",
       "      <th>...</th>\n",
       "      <td>...</td>\n",
       "      <td>...</td>\n",
       "      <td>...</td>\n",
       "      <td>...</td>\n",
       "      <td>...</td>\n",
       "      <td>...</td>\n",
       "      <td>...</td>\n",
       "      <td>...</td>\n",
       "      <td>...</td>\n",
       "      <td>...</td>\n",
       "      <td>...</td>\n",
       "      <td>...</td>\n",
       "    </tr>\n",
       "    <tr>\n",
       "      <th>7377</th>\n",
       "      <td>CI 174 Gray Icon Pack</td>\n",
       "      <td>PERSONALIZATION</td>\n",
       "      <td>5.0</td>\n",
       "      <td>1</td>\n",
       "      <td>46.0</td>\n",
       "      <td>10</td>\n",
       "      <td>Paid</td>\n",
       "      <td>0.99</td>\n",
       "      <td>Everyone</td>\n",
       "      <td>2018-05-21</td>\n",
       "      <td>1.1</td>\n",
       "      <td>4.1</td>\n",
       "    </tr>\n",
       "    <tr>\n",
       "      <th>625</th>\n",
       "      <td>House party - live chat</td>\n",
       "      <td>DATING</td>\n",
       "      <td>1.0</td>\n",
       "      <td>1</td>\n",
       "      <td>9.2</td>\n",
       "      <td>10</td>\n",
       "      <td>Free</td>\n",
       "      <td>0.00</td>\n",
       "      <td>Mature 17+</td>\n",
       "      <td>2018-07-31</td>\n",
       "      <td>3.52</td>\n",
       "      <td>4.0.3</td>\n",
       "    </tr>\n",
       "    <tr>\n",
       "      <th>6319</th>\n",
       "      <td>BJ Bridge Standard American 2018</td>\n",
       "      <td>GAME</td>\n",
       "      <td>1.0</td>\n",
       "      <td>1</td>\n",
       "      <td>4.9</td>\n",
       "      <td>1000</td>\n",
       "      <td>Free</td>\n",
       "      <td>0.00</td>\n",
       "      <td>Everyone</td>\n",
       "      <td>2018-05-21</td>\n",
       "      <td>6.2-sayc</td>\n",
       "      <td>4.0</td>\n",
       "    </tr>\n",
       "    <tr>\n",
       "      <th>8379</th>\n",
       "      <td>DG-App</td>\n",
       "      <td>TOOLS</td>\n",
       "      <td>5.0</td>\n",
       "      <td>1</td>\n",
       "      <td>4.5</td>\n",
       "      <td>500</td>\n",
       "      <td>Free</td>\n",
       "      <td>0.00</td>\n",
       "      <td>Everyone</td>\n",
       "      <td>2017-11-29</td>\n",
       "      <td>1.0.16</td>\n",
       "      <td>4.1</td>\n",
       "    </tr>\n",
       "    <tr>\n",
       "      <th>2533</th>\n",
       "      <td>Zen Leaf</td>\n",
       "      <td>MEDICAL</td>\n",
       "      <td>5.0</td>\n",
       "      <td>1</td>\n",
       "      <td>6.1</td>\n",
       "      <td>100</td>\n",
       "      <td>Free</td>\n",
       "      <td>0.00</td>\n",
       "      <td>Mature 17+</td>\n",
       "      <td>2018-03-08</td>\n",
       "      <td>2.3.5</td>\n",
       "      <td>4.1</td>\n",
       "    </tr>\n",
       "  </tbody>\n",
       "</table>\n",
       "<p>8189 rows × 12 columns</p>\n",
       "</div>"
      ],
      "text/plain": [
       "                                           App         Category  Rating  \\\n",
       "2544                                  Facebook           SOCIAL     4.1   \n",
       "336                         WhatsApp Messenger    COMMUNICATION     4.4   \n",
       "2604                                 Instagram           SOCIAL     4.5   \n",
       "382   Messenger – Text and Video Chat for Free    COMMUNICATION     4.0   \n",
       "1879                            Clash of Clans             GAME     4.6   \n",
       "...                                        ...              ...     ...   \n",
       "7377                     CI 174 Gray Icon Pack  PERSONALIZATION     5.0   \n",
       "625                    House party - live chat           DATING     1.0   \n",
       "6319          BJ Bridge Standard American 2018             GAME     1.0   \n",
       "8379                                    DG-App            TOOLS     5.0   \n",
       "2533                                  Zen Leaf          MEDICAL     5.0   \n",
       "\n",
       "       Reviews  Size  Almost_Installs  Type  Price Content Rating  \\\n",
       "2544  78158306  16.0       1000000000  Free   0.00           Teen   \n",
       "336   69119316  16.0       1000000000  Free   0.00       Everyone   \n",
       "2604  66577446  16.0       1000000000  Free   0.00           Teen   \n",
       "382   56646578  16.0       1000000000  Free   0.00       Everyone   \n",
       "1879  44893888  98.0        100000000  Free   0.00   Everyone 10+   \n",
       "...        ...   ...              ...   ...    ...            ...   \n",
       "7377         1  46.0               10  Paid   0.99       Everyone   \n",
       "625          1   9.2               10  Free   0.00     Mature 17+   \n",
       "6319         1   4.9             1000  Free   0.00       Everyone   \n",
       "8379         1   4.5              500  Free   0.00       Everyone   \n",
       "2533         1   6.1              100  Free   0.00     Mature 17+   \n",
       "\n",
       "     Last Updated         Current Ver Minimum Android Ver  \n",
       "2544   2018-08-03  Varies with device  Varies with device  \n",
       "336    2018-08-03  Varies with device  Varies with device  \n",
       "2604   2018-07-31  Varies with device  Varies with device  \n",
       "382    2018-08-01  Varies with device  Varies with device  \n",
       "1879   2018-07-15           10.322.16                 4.1  \n",
       "...           ...                 ...                 ...  \n",
       "7377   2018-05-21                 1.1                 4.1  \n",
       "625    2018-07-31                3.52               4.0.3  \n",
       "6319   2018-05-21            6.2-sayc                 4.0  \n",
       "8379   2017-11-29              1.0.16                 4.1  \n",
       "2533   2018-03-08               2.3.5                 4.1  \n",
       "\n",
       "[8189 rows x 12 columns]"
      ]
     },
     "execution_count": 149,
     "metadata": {},
     "output_type": "execute_result"
    }
   ],
   "source": [
    "most_reviewed = playstore.sort_values(by='Reviews', ascending=False)\n",
    "most_reviewed"
   ]
  },
  {
   "cell_type": "code",
   "execution_count": 150,
   "id": "a6ff2fcf-e871-4afe-b69f-64ea466fd546",
   "metadata": {},
   "outputs": [],
   "source": [
    "#There is a problem in removing duplicates as the records identical in all columns except Review column\n",
    "playstore = playstore.sort_values(by='Reviews', ascending=False)\n",
    "playstore = playstore.drop_duplicates(subset='App', keep='first')"
   ]
  },
  {
   "cell_type": "code",
   "execution_count": 155,
   "id": "e7c09be2-efa7-49fd-bde9-8fc0426ee99a",
   "metadata": {},
   "outputs": [
    {
     "name": "stdout",
     "output_type": "stream",
     "text": [
      "Number of apps with more than 50K reviews: 1948\n"
     ]
    }
   ],
   "source": [
    "apps_over_50k = playstore[playstore['Reviews'] > 50000]\n",
    "print(\"Number of apps with more than 50K reviews:\", apps_over_50k.shape[0])"
   ]
  },
  {
   "cell_type": "code",
   "execution_count": 156,
   "id": "3c6e450a-f693-4257-a75a-4ba60e93afd3",
   "metadata": {},
   "outputs": [],
   "source": [
    "playstore['High_Reviews'] = playstore['Reviews'].apply(lambda x: 'More than 50K' if x > 50000 else '50K or Less')"
   ]
  },
  {
   "cell_type": "code",
   "execution_count": 159,
   "id": "39515f26-9f62-409f-9dd6-e4706f447e33",
   "metadata": {},
   "outputs": [
    {
     "data": {
      "text/plain": [
       "High_Reviews\n",
       "50K or Less      6241\n",
       "More than 50K    1948\n",
       "Name: count, dtype: int64"
      ]
     },
     "execution_count": 159,
     "metadata": {},
     "output_type": "execute_result"
    }
   ],
   "source": [
    "review_counts = playstore['High_Reviews'].value_counts()\n",
    "review_counts"
   ]
  },
  {
   "cell_type": "code",
   "execution_count": 160,
   "id": "058c6453-b348-4544-b798-814f25af2105",
   "metadata": {},
   "outputs": [
    {
     "name": "stderr",
     "output_type": "stream",
     "text": [
      "C:\\Users\\Lenovo\\AppData\\Local\\Temp\\ipykernel_22716\\2792734430.py:1: FutureWarning: \n",
      "\n",
      "Passing `palette` without assigning `hue` is deprecated and will be removed in v0.14.0. Assign the `x` variable to `hue` and set `legend=False` for the same effect.\n",
      "\n",
      "  sns.barplot(x=review_counts.index, y=review_counts.values, palette='viridis')\n"
     ]
    },
    {
     "data": {
      "image/png": "[encoded data removed]",
      "text/plain": [
       "<Figure size 640x480 with 1 Axes>"
      ]
     },
     "metadata": {},
     "output_type": "display_data"
    }
   ],
   "source": [
    "sns.barplot(x=review_counts.index, y=review_counts.values, palette='viridis')\n",
    "plt.title('Number of Apps with More than 50K Reviews')\n",
    "plt.xlabel('Review Category')\n",
    "plt.ylabel('Number of Apps')\n",
    "plt.show()"
   ]
  },
  {
   "cell_type": "markdown",
   "id": "55b773e8-5446-47cb-910b-dc52ab2665a9",
   "metadata": {},
   "source": [
    "**6. The average price of apps, grouped by genre and number of installs**"
   ]
  },
  {
   "cell_type": "code",
   "execution_count": 169,
   "id": "139d1474-9016-4ec2-83fb-5295267bb1a0",
   "metadata": {},
   "outputs": [
    {
     "data": {
      "text/html": [
       "<div>\n",
       "<style scoped>\n",
       "    .dataframe tbody tr th:only-of-type {\n",
       "        vertical-align: middle;\n",
       "    }\n",
       "\n",
       "    .dataframe tbody tr th {\n",
       "        vertical-align: top;\n",
       "    }\n",
       "\n",
       "    .dataframe thead th {\n",
       "        text-align: right;\n",
       "    }\n",
       "</style>\n",
       "<table border=\"1\" class=\"dataframe\">\n",
       "  <thead>\n",
       "    <tr style=\"text-align: right;\">\n",
       "      <th></th>\n",
       "      <th>Category</th>\n",
       "      <th>Price</th>\n",
       "      <th>Almost_Installs</th>\n",
       "    </tr>\n",
       "  </thead>\n",
       "  <tbody>\n",
       "    <tr>\n",
       "      <th>0</th>\n",
       "      <td>ART_AND_DESIGN</td>\n",
       "      <td>0.102931</td>\n",
       "      <td>1.952209e+06</td>\n",
       "    </tr>\n",
       "    <tr>\n",
       "      <th>1</th>\n",
       "      <td>AUTO_AND_VEHICLES</td>\n",
       "      <td>0.027260</td>\n",
       "      <td>7.278055e+05</td>\n",
       "    </tr>\n",
       "    <tr>\n",
       "      <th>2</th>\n",
       "      <td>BEAUTY</td>\n",
       "      <td>0.000000</td>\n",
       "      <td>6.408619e+05</td>\n",
       "    </tr>\n",
       "    <tr>\n",
       "      <th>3</th>\n",
       "      <td>BOOKS_AND_REFERENCE</td>\n",
       "      <td>0.141302</td>\n",
       "      <td>9.856755e+06</td>\n",
       "    </tr>\n",
       "    <tr>\n",
       "      <th>4</th>\n",
       "      <td>BUSINESS</td>\n",
       "      <td>0.244905</td>\n",
       "      <td>2.650259e+06</td>\n",
       "    </tr>\n",
       "    <tr>\n",
       "      <th>5</th>\n",
       "      <td>COMICS</td>\n",
       "      <td>0.000000</td>\n",
       "      <td>8.320574e+05</td>\n",
       "    </tr>\n",
       "    <tr>\n",
       "      <th>6</th>\n",
       "      <td>COMMUNICATION</td>\n",
       "      <td>0.221445</td>\n",
       "      <td>4.311813e+07</td>\n",
       "    </tr>\n",
       "    <tr>\n",
       "      <th>7</th>\n",
       "      <td>DATING</td>\n",
       "      <td>0.090075</td>\n",
       "      <td>1.059484e+06</td>\n",
       "    </tr>\n",
       "    <tr>\n",
       "      <th>8</th>\n",
       "      <td>EDUCATION</td>\n",
       "      <td>0.076000</td>\n",
       "      <td>1.808105e+06</td>\n",
       "    </tr>\n",
       "    <tr>\n",
       "      <th>9</th>\n",
       "      <td>ENTERTAINMENT</td>\n",
       "      <td>0.092791</td>\n",
       "      <td>1.144953e+07</td>\n",
       "    </tr>\n",
       "    <tr>\n",
       "      <th>10</th>\n",
       "      <td>EVENTS</td>\n",
       "      <td>0.000000</td>\n",
       "      <td>3.544313e+05</td>\n",
       "    </tr>\n",
       "    <tr>\n",
       "      <th>11</th>\n",
       "      <td>FAMILY</td>\n",
       "      <td>1.375415</td>\n",
       "      <td>3.777063e+06</td>\n",
       "    </tr>\n",
       "    <tr>\n",
       "      <th>12</th>\n",
       "      <td>FINANCE</td>\n",
       "      <td>8.079040</td>\n",
       "      <td>1.507657e+06</td>\n",
       "    </tr>\n",
       "    <tr>\n",
       "      <th>13</th>\n",
       "      <td>FOOD_AND_DRINK</td>\n",
       "      <td>0.090213</td>\n",
       "      <td>2.251891e+06</td>\n",
       "    </tr>\n",
       "    <tr>\n",
       "      <th>14</th>\n",
       "      <td>GAME</td>\n",
       "      <td>0.308875</td>\n",
       "      <td>1.497524e+07</td>\n",
       "    </tr>\n",
       "    <tr>\n",
       "      <th>15</th>\n",
       "      <td>HEALTH_AND_FITNESS</td>\n",
       "      <td>0.173730</td>\n",
       "      <td>4.688550e+06</td>\n",
       "    </tr>\n",
       "    <tr>\n",
       "      <th>16</th>\n",
       "      <td>HOUSE_AND_HOME</td>\n",
       "      <td>0.000000</td>\n",
       "      <td>1.591344e+06</td>\n",
       "    </tr>\n",
       "    <tr>\n",
       "      <th>17</th>\n",
       "      <td>LIBRARIES_AND_DEMO</td>\n",
       "      <td>0.000000</td>\n",
       "      <td>8.108413e+05</td>\n",
       "    </tr>\n",
       "    <tr>\n",
       "      <th>18</th>\n",
       "      <td>LIFESTYLE</td>\n",
       "      <td>6.514551</td>\n",
       "      <td>1.673559e+06</td>\n",
       "    </tr>\n",
       "    <tr>\n",
       "      <th>19</th>\n",
       "      <td>MAPS_AND_NAVIGATION</td>\n",
       "      <td>0.228390</td>\n",
       "      <td>4.264979e+06</td>\n",
       "    </tr>\n",
       "    <tr>\n",
       "      <th>20</th>\n",
       "      <td>MEDICAL</td>\n",
       "      <td>2.106483</td>\n",
       "      <td>1.319054e+05</td>\n",
       "    </tr>\n",
       "    <tr>\n",
       "      <th>21</th>\n",
       "      <td>NEWS_AND_MAGAZINES</td>\n",
       "      <td>0.019510</td>\n",
       "      <td>1.161329e+07</td>\n",
       "    </tr>\n",
       "    <tr>\n",
       "      <th>22</th>\n",
       "      <td>PARENTING</td>\n",
       "      <td>0.191600</td>\n",
       "      <td>6.223222e+05</td>\n",
       "    </tr>\n",
       "    <tr>\n",
       "      <th>23</th>\n",
       "      <td>PERSONALIZATION</td>\n",
       "      <td>0.414831</td>\n",
       "      <td>5.176831e+06</td>\n",
       "    </tr>\n",
       "    <tr>\n",
       "      <th>24</th>\n",
       "      <td>PHOTOGRAPHY</td>\n",
       "      <td>0.274943</td>\n",
       "      <td>1.771157e+07</td>\n",
       "    </tr>\n",
       "    <tr>\n",
       "      <th>25</th>\n",
       "      <td>PRODUCTIVITY</td>\n",
       "      <td>0.235615</td>\n",
       "      <td>1.924608e+07</td>\n",
       "    </tr>\n",
       "    <tr>\n",
       "      <th>26</th>\n",
       "      <td>SHOPPING</td>\n",
       "      <td>0.030444</td>\n",
       "      <td>7.779620e+06</td>\n",
       "    </tr>\n",
       "    <tr>\n",
       "      <th>27</th>\n",
       "      <td>SOCIAL</td>\n",
       "      <td>0.009754</td>\n",
       "      <td>2.703370e+07</td>\n",
       "    </tr>\n",
       "    <tr>\n",
       "      <th>28</th>\n",
       "      <td>SPORTS</td>\n",
       "      <td>0.358500</td>\n",
       "      <td>4.217044e+06</td>\n",
       "    </tr>\n",
       "    <tr>\n",
       "      <th>29</th>\n",
       "      <td>TOOLS</td>\n",
       "      <td>0.289554</td>\n",
       "      <td>1.128158e+07</td>\n",
       "    </tr>\n",
       "    <tr>\n",
       "      <th>30</th>\n",
       "      <td>TRAVEL_AND_LOCAL</td>\n",
       "      <td>0.200481</td>\n",
       "      <td>1.548053e+07</td>\n",
       "    </tr>\n",
       "    <tr>\n",
       "      <th>31</th>\n",
       "      <td>VIDEO_PLAYERS</td>\n",
       "      <td>0.070201</td>\n",
       "      <td>2.638790e+07</td>\n",
       "    </tr>\n",
       "    <tr>\n",
       "      <th>32</th>\n",
       "      <td>WEATHER</td>\n",
       "      <td>0.408750</td>\n",
       "      <td>5.015229e+06</td>\n",
       "    </tr>\n",
       "  </tbody>\n",
       "</table>\n",
       "</div>"
      ],
      "text/plain": [
       "               Category     Price  Almost_Installs\n",
       "0        ART_AND_DESIGN  0.102931     1.952209e+06\n",
       "1     AUTO_AND_VEHICLES  0.027260     7.278055e+05\n",
       "2                BEAUTY  0.000000     6.408619e+05\n",
       "3   BOOKS_AND_REFERENCE  0.141302     9.856755e+06\n",
       "4              BUSINESS  0.244905     2.650259e+06\n",
       "5                COMICS  0.000000     8.320574e+05\n",
       "6         COMMUNICATION  0.221445     4.311813e+07\n",
       "7                DATING  0.090075     1.059484e+06\n",
       "8             EDUCATION  0.076000     1.808105e+06\n",
       "9         ENTERTAINMENT  0.092791     1.144953e+07\n",
       "10               EVENTS  0.000000     3.544313e+05\n",
       "11               FAMILY  1.375415     3.777063e+06\n",
       "12              FINANCE  8.079040     1.507657e+06\n",
       "13       FOOD_AND_DRINK  0.090213     2.251891e+06\n",
       "14                 GAME  0.308875     1.497524e+07\n",
       "15   HEALTH_AND_FITNESS  0.173730     4.688550e+06\n",
       "16       HOUSE_AND_HOME  0.000000     1.591344e+06\n",
       "17   LIBRARIES_AND_DEMO  0.000000     8.108413e+05\n",
       "18            LIFESTYLE  6.514551     1.673559e+06\n",
       "19  MAPS_AND_NAVIGATION  0.228390     4.264979e+06\n",
       "20              MEDICAL  2.106483     1.319054e+05\n",
       "21   NEWS_AND_MAGAZINES  0.019510     1.161329e+07\n",
       "22            PARENTING  0.191600     6.223222e+05\n",
       "23      PERSONALIZATION  0.414831     5.176831e+06\n",
       "24          PHOTOGRAPHY  0.274943     1.771157e+07\n",
       "25         PRODUCTIVITY  0.235615     1.924608e+07\n",
       "26             SHOPPING  0.030444     7.779620e+06\n",
       "27               SOCIAL  0.009754     2.703370e+07\n",
       "28               SPORTS  0.358500     4.217044e+06\n",
       "29                TOOLS  0.289554     1.128158e+07\n",
       "30     TRAVEL_AND_LOCAL  0.200481     1.548053e+07\n",
       "31        VIDEO_PLAYERS  0.070201     2.638790e+07\n",
       "32              WEATHER  0.408750     5.015229e+06"
      ]
     },
     "execution_count": 169,
     "metadata": {},
     "output_type": "execute_result"
    }
   ],
   "source": [
    "avg_price_installs_by_category = playstore.groupby('Category', as_index=False).agg({ 'Price': 'mean','Almost_Installs': 'mean'})\n",
    "avg_price_installs_by_category "
   ]
  },
  {
   "cell_type": "code",
   "execution_count": 176,
   "id": "25524c48-e6cb-4076-9bcd-573c20a1e0fe",
   "metadata": {},
   "outputs": [
    {
     "name": "stderr",
     "output_type": "stream",
     "text": [
      "C:\\Users\\Lenovo\\AppData\\Local\\Temp\\ipykernel_22716\\548534983.py:2: FutureWarning: \n",
      "\n",
      "Passing `palette` without assigning `hue` is deprecated and will be removed in v0.14.0. Assign the `x` variable to `hue` and set `legend=False` for the same effect.\n",
      "\n",
      "  sns.barplot(data=avg_price_installs_by_category.sort_values('Price', ascending=False),\n"
     ]
    },
    {
     "data": {
      "image/png": "[encoded data removed]",
      "text/plain": [
       "<Figure size 1200x600 with 1 Axes>"
      ]
     },
     "metadata": {},
     "output_type": "display_data"
    }
   ],
   "source": [
    "plt.figure(figsize=(12,6))\n",
    "sns.barplot(data=avg_price_installs_by_category.sort_values('Price', ascending=False),\n",
    "            x='Category', y='Price', palette='coolwarm')\n",
    "plt.title('Average Price of Apps by Category')\n",
    "plt.xticks(rotation=75)\n",
    "plt.ylabel('Average Price ($)')\n",
    "plt.xlabel('Category')\n",
    "plt.show()"
   ]
  },
  {
   "cell_type": "code",
   "execution_count": 178,
   "id": "1d325043-b267-4532-bd18-fceeb3d61160",
   "metadata": {},
   "outputs": [
    {
     "name": "stderr",
     "output_type": "stream",
     "text": [
      "C:\\Users\\Lenovo\\AppData\\Local\\Temp\\ipykernel_22716\\3868505904.py:2: FutureWarning: \n",
      "\n",
      "Passing `palette` without assigning `hue` is deprecated and will be removed in v0.14.0. Assign the `x` variable to `hue` and set `legend=False` for the same effect.\n",
      "\n",
      "  sns.barplot(data=avg_price_installs_by_category.sort_values('Almost_Installs', ascending=False), x='Category', y='Almost_Installs', palette='coolwarm')\n"
     ]
    },
    {
     "data": {
      "image/png": "[encoded data removed]",
      "text/plain": [
       "<Figure size 1200x600 with 1 Axes>"
      ]
     },
     "metadata": {},
     "output_type": "display_data"
    }
   ],
   "source": [
    "plt.figure(figsize=(12,6))\n",
    "sns.barplot(data=avg_price_installs_by_category.sort_values('Almost_Installs', ascending=False), x='Category', y='Almost_Installs', palette='coolwarm')\n",
    "plt.title('Average Installs of Apps by Category')\n",
    "plt.xticks(rotation=75)\n",
    "plt.ylabel('Average Installs')\n",
    "plt.xlabel('Category')\n",
    "plt.show()"
   ]
  },
  {
   "cell_type": "markdown",
   "id": "3fd86c58-e3ca-44b8-84fb-c9942ee43e34",
   "metadata": {},
   "source": [
    "**7. No. of apps have a rating higher than 4.7, and what is their average price**"
   ]
  },
  {
   "cell_type": "code",
   "execution_count": 180,
   "id": "73280c78-eaf8-4af4-a4aa-fcbd034e1032",
   "metadata": {},
   "outputs": [
    {
     "name": "stdout",
     "output_type": "stream",
     "text": [
      "Number of apps with reviews > 4.7: 576\n"
     ]
    }
   ],
   "source": [
    "high_rate_apps= playstore[playstore['Rating'] > 4.7]\n",
    "print(\"Number of apps with reviews > 4.7:\", high_rate_apps.shape[0])"
   ]
  },
  {
   "cell_type": "code",
   "execution_count": 186,
   "id": "3257b979-3cac-42c5-97d8-08fc80477e01",
   "metadata": {},
   "outputs": [
    {
     "name": "stdout",
     "output_type": "stream",
     "text": [
      "Average price of apps with rating > 4.7: $ 0.46289930555555553\n"
     ]
    }
   ],
   "source": [
    "avg_price_high_rate = high_rate_apps['Price'].mean()\n",
    "print(\"Average price of apps with rating > 4.7:\",'$', avg_price_high_rate)"
   ]
  },
  {
   "cell_type": "markdown",
   "id": "00be759b-cdff-4a5d-8802-5a768964da40",
   "metadata": {},
   "source": [
    "**9. the maximum and minimum sizes of free vs. paid apps**"
   ]
  },
  {
   "cell_type": "code",
   "execution_count": 192,
   "id": "082edb14-922c-49cd-8757-732c6f6a468b",
   "metadata": {},
   "outputs": [
    {
     "data": {
      "text/html": [
       "<div>\n",
       "<style scoped>\n",
       "    .dataframe tbody tr th:only-of-type {\n",
       "        vertical-align: middle;\n",
       "    }\n",
       "\n",
       "    .dataframe tbody tr th {\n",
       "        vertical-align: top;\n",
       "    }\n",
       "\n",
       "    .dataframe thead tr th {\n",
       "        text-align: left;\n",
       "    }\n",
       "</style>\n",
       "<table border=\"1\" class=\"dataframe\">\n",
       "  <thead>\n",
       "    <tr>\n",
       "      <th></th>\n",
       "      <th>Type</th>\n",
       "      <th colspan=\"2\" halign=\"left\">Size</th>\n",
       "    </tr>\n",
       "    <tr>\n",
       "      <th></th>\n",
       "      <th></th>\n",
       "      <th>min</th>\n",
       "      <th>max</th>\n",
       "    </tr>\n",
       "  </thead>\n",
       "  <tbody>\n",
       "    <tr>\n",
       "      <th>0</th>\n",
       "      <td>Free</td>\n",
       "      <td>1.0</td>\n",
       "      <td>994.0</td>\n",
       "    </tr>\n",
       "    <tr>\n",
       "      <th>1</th>\n",
       "      <td>Paid</td>\n",
       "      <td>1.0</td>\n",
       "      <td>965.0</td>\n",
       "    </tr>\n",
       "  </tbody>\n",
       "</table>\n",
       "</div>"
      ],
      "text/plain": [
       "   Type Size       \n",
       "         min    max\n",
       "0  Free  1.0  994.0\n",
       "1  Paid  1.0  965.0"
      ]
     },
     "execution_count": 192,
     "metadata": {},
     "output_type": "execute_result"
    }
   ],
   "source": [
    "size_stats = playstore.groupby('Type', as_index=False).agg({'Size': ['min', 'max']})\n",
    "size_stats"
   ]
  },
  {
   "cell_type": "code",
   "execution_count": 195,
   "id": "cb1105e8-55ef-429d-a90f-c468e2595c2d",
   "metadata": {},
   "outputs": [
    {
     "name": "stdout",
     "output_type": "stream",
     "text": [
      "   Type  Min_Size_MB  Max_Size_MB\n",
      "0  Free          1.0        994.0\n",
      "1  Paid          1.0        965.0\n"
     ]
    }
   ],
   "source": [
    "size_stats.columns = ['Type', 'Min_Size_MB', 'Max_Size_MB']\n",
    "print(size_stats.head())"
   ]
  },
  {
   "cell_type": "code",
   "execution_count": 203,
   "id": "bb6896d0-264b-4b3c-bcfe-dba3109d0c2a",
   "metadata": {},
   "outputs": [
    {
     "data": {
      "image/png": "[encoded data removed]",
      "text/plain": [
       "<Figure size 800x500 with 1 Axes>"
      ]
     },
     "metadata": {},
     "output_type": "display_data"
    }
   ],
   "source": [
    "plt.figure(figsize=(8,5))\n",
    "sns.barplot(data=size_stats, x='Type', y='Max_Size_MB', color='orange')\n",
    "plt.title('Maximum App Sizes: Free vs Paid')\n",
    "plt.xlabel('App Type')\n",
    "plt.ylabel('Size (MB)')\n",
    "plt.show()"
   ]
  },
  {
   "cell_type": "code",
   "execution_count": 202,
   "id": "d5fd748c-16dc-4040-bb3d-9a201cae13cc",
   "metadata": {},
   "outputs": [
    {
     "name": "stderr",
     "output_type": "stream",
     "text": [
      "C:\\Users\\Lenovo\\AppData\\Local\\Temp\\ipykernel_22716\\766888834.py:6: UserWarning: No artists with labels found to put in legend.  Note that artists whose label start with an underscore are ignored when legend() is called with no argument.\n",
      "  plt.legend()\n"
     ]
    },
    {
     "data": {
      "image/png": "[encoded data removed]",
      "text/plain": [
       "<Figure size 800x500 with 1 Axes>"
      ]
     },
     "metadata": {},
     "output_type": "display_data"
    }
   ],
   "source": [
    "plt.figure(figsize=(8,5))\n",
    "sns.barplot(data=size_stats, x='Type', y='Min_Size_MB', color='skyblue')\n",
    "plt.title('Minimum App Sizes: Free vs Paid')\n",
    "plt.xlabel('App Type')\n",
    "plt.ylabel('Size (MB)')\n",
    "plt.legend()\n",
    "plt.show()"
   ]
  },
  {
   "cell_type": "markdown",
   "id": "5f79cab4-f9e0-47f9-8a46-0428bacf54a1",
   "metadata": {},
   "source": [
    "**10. Correlation Between Rating, Reviews, Size, and Price**"
   ]
  },
  {
   "cell_type": "code",
   "execution_count": 205,
   "id": "38218c77-f8d2-4545-be09-5e6a4a502776",
   "metadata": {},
   "outputs": [],
   "source": [
    "corr_data = playstore[['Rating', 'Reviews', 'Size', 'Price']]"
   ]
  },
  {
   "cell_type": "code",
   "execution_count": 206,
   "id": "edca8e37-ab1e-4162-acef-aec38a52a9b6",
   "metadata": {},
   "outputs": [
    {
     "name": "stdout",
     "output_type": "stream",
     "text": [
      "           Rating   Reviews      Size     Price\n",
      "Rating   1.000000  0.055146 -0.026847 -0.021126\n",
      "Reviews  0.055146  1.000000 -0.001620 -0.007781\n",
      "Size    -0.026847 -0.001620  1.000000  0.020522\n",
      "Price   -0.021126 -0.007781  0.020522  1.000000\n"
     ]
    }
   ],
   "source": [
    "corr_matrix = corr_data.corr()\n",
    "print(corr_matrix)"
   ]
  },
  {
   "cell_type": "code",
   "execution_count": 209,
   "id": "b17c1743-0145-4297-95d3-2b6fc0cfe6e8",
   "metadata": {},
   "outputs": [
    {
     "data": {
      "image/png": "[encoded data removed]",
      "text/plain": [
       "<Figure size 800x600 with 2 Axes>"
      ]
     },
     "metadata": {},
     "output_type": "display_data"
    }
   ],
   "source": [
    "plt.figure(figsize=(8,6))\n",
    "sns.heatmap(corr_matrix,cmap='coolwarm')\n",
    "plt.title(\"Correlation Between Rating, Reviews, Size, and Price\")\n",
    "plt.show()"
   ]
  },
  {
   "cell_type": "markdown",
   "id": "d4d8a6ac-e18d-4c4a-af79-ca188079f50d",
   "metadata": {},
   "source": [
    "There is almost no correlation between them, but there is a small correlation between reviews and rating, and size and price"
   ]
  },
  {
   "cell_type": "markdown",
   "id": "f0e9900b-6a24-4aab-9039-35d6bc44bac0",
   "metadata": {},
   "source": [
    "**11. No. of apps exist for each type (free/paid) across different content ratings**"
   ]
  },
  {
   "cell_type": "code",
   "execution_count": 211,
   "id": "1b7bb82f-a2ba-42da-9185-c947b2dd5be2",
   "metadata": {},
   "outputs": [
    {
     "data": {
      "text/html": [
       "<div>\n",
       "<style scoped>\n",
       "    .dataframe tbody tr th:only-of-type {\n",
       "        vertical-align: middle;\n",
       "    }\n",
       "\n",
       "    .dataframe tbody tr th {\n",
       "        vertical-align: top;\n",
       "    }\n",
       "\n",
       "    .dataframe thead th {\n",
       "        text-align: right;\n",
       "    }\n",
       "</style>\n",
       "<table border=\"1\" class=\"dataframe\">\n",
       "  <thead>\n",
       "    <tr style=\"text-align: right;\">\n",
       "      <th>Type</th>\n",
       "      <th>Free</th>\n",
       "      <th>Paid</th>\n",
       "    </tr>\n",
       "    <tr>\n",
       "      <th>Content Rating</th>\n",
       "      <th></th>\n",
       "      <th></th>\n",
       "    </tr>\n",
       "  </thead>\n",
       "  <tbody>\n",
       "    <tr>\n",
       "      <th>Adults only 18+</th>\n",
       "      <td>3</td>\n",
       "      <td>0</td>\n",
       "    </tr>\n",
       "    <tr>\n",
       "      <th>Everyone</th>\n",
       "      <td>6103</td>\n",
       "      <td>509</td>\n",
       "    </tr>\n",
       "    <tr>\n",
       "      <th>Everyone 10+</th>\n",
       "      <td>274</td>\n",
       "      <td>31</td>\n",
       "    </tr>\n",
       "    <tr>\n",
       "      <th>Mature 17+</th>\n",
       "      <td>342</td>\n",
       "      <td>15</td>\n",
       "    </tr>\n",
       "    <tr>\n",
       "      <th>Teen</th>\n",
       "      <td>867</td>\n",
       "      <td>45</td>\n",
       "    </tr>\n",
       "  </tbody>\n",
       "</table>\n",
       "</div>"
      ],
      "text/plain": [
       "Type             Free  Paid\n",
       "Content Rating             \n",
       "Adults only 18+     3     0\n",
       "Everyone         6103   509\n",
       "Everyone 10+      274    31\n",
       "Mature 17+        342    15\n",
       "Teen              867    45"
      ]
     },
     "execution_count": 211,
     "metadata": {},
     "output_type": "execute_result"
    }
   ],
   "source": [
    "pivot_table = playstore.pivot_table(index='Content Rating', \n",
    "                                    columns='Type', \n",
    "                                    values='App', \n",
    "                                    aggfunc='count', \n",
    "                                    fill_value=0)\n",
    "pivot_table"
   ]
  },
  {
   "cell_type": "code",
   "execution_count": 217,
   "id": "30e8c3d9-91b2-4b21-8596-db836e73812a",
   "metadata": {},
   "outputs": [
    {
     "data": {
      "image/png": "[encoded data removed]",
      "text/plain": [
       "<Figure size 800x500 with 2 Axes>"
      ]
     },
     "metadata": {},
     "output_type": "display_data"
    }
   ],
   "source": [
    "plt.figure(figsize=(8,5))\n",
    "sns.heatmap(pivot_table, annot=True, cmap='YlGnBu', fmt='d')\n",
    "plt.title('Apps by Type and Content Rating')\n",
    "plt.xlabel('Type')\n",
    "plt.ylabel('Content Rating')\n",
    "plt.show()"
   ]
  },
  {
   "cell_type": "markdown",
   "id": "cfe3f4e7-4c4c-477d-a8f7-afe3165d8440",
   "metadata": {},
   "source": [
    "**12. No. of apps are compatible with Android version 4.x**"
   ]
  },
  {
   "cell_type": "code",
   "execution_count": 219,
   "id": "bf581ba1-589c-4dd3-99cc-35014a48e27a",
   "metadata": {},
   "outputs": [
    {
     "name": "stdout",
     "output_type": "stream",
     "text": [
      "Number of apps compatible with Android 4.x:  5215\n"
     ]
    }
   ],
   "source": [
    "android_4x_apps = playstore[playstore['Minimum Android Ver'].str.startswith('4.', na=False)]\n",
    "num_android_4x = android_4x_apps.shape[0]\n",
    "print(\"Number of apps compatible with Android 4.x: \",num_android_4x)"
   ]
  },
  {
   "cell_type": "code",
   "execution_count": 222,
   "id": "9de121e5-da68-4d96-9abd-b8ea404555ea",
   "metadata": {},
   "outputs": [
    {
     "data": {
      "image/png": "[encoded data removed]",
      "text/plain": [
       "<Figure size 800x400 with 1 Axes>"
      ]
     },
     "metadata": {},
     "output_type": "display_data"
    }
   ],
   "source": [
    "plt.figure(figsize=(8,4))\n",
    "sns.countplot(data=android_4x_apps, x='Minimum Android Ver', color='indigo')\n",
    "plt.title('Apps Compatible with Android 4.x Versions')\n",
    "plt.xlabel('Android 4.x Version')\n",
    "plt.ylabel('Number of Apps')\n",
    "plt.show()\n",
    "\n"
   ]
  },
  {
   "cell_type": "code",
   "execution_count": null,
   "id": "0d3a8cf7-d65c-4f91-8d4e-362c8ecb001e",
   "metadata": {},
   "outputs": [],
   "source": []
  }
 ],
 "metadata": {
  "kernelspec": {
   "display_name": "Python 3 (ipykernel)",
   "language": "python",
   "name": "python3"
  },
  "language_info": {
   "codemirror_mode": {
    "name": "ipython",
    "version": 3
   },
   "file_extension": ".py",
   "mimetype": "text/x-python",
   "name": "python",
   "nbconvert_exporter": "python",
   "pygments_lexer": "ipython3",
   "version": "3.13.5"
  }
 },
 "nbformat": 4,
 "nbformat_minor": 5
}
